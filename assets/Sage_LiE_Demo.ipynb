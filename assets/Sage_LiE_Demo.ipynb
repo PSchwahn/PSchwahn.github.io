{
 "cells": [
  {
   "cell_type": "markdown",
   "id": "9b6d4184-5400-4856-b11b-e7f9285c496c",
   "metadata": {
    "editable": true,
    "slideshow": {
     "slide_type": ""
    },
    "tags": [
     "hide-input"
    ]
   },
   "source": [
    "## Software Demo: Branching in SageMath (and LiE)\n",
    "\n",
    "Let $G$ be a compact, simply connected, **semisimple** Lie group. With SageMath we can study its (complex) representations.\n",
    "\n",
    "(Equivalently, representations of compact/complex semisimple Lie algebras.)\n",
    "\n",
    "We let $\\mathfrak{t}\\subset\\mathfrak{g}$ be a Cartan subalgebra of $\\mathfrak{g}=\\mathrm{Lie}(G)$. The **roots** of $\\mathfrak{g}$ are elements of $\\alpha\\in\\mathfrak{t}^\\ast\\setminus\\{0\\}$ which satisfy\n",
    "$$\\forall X\\in\\mathfrak{t},\\qquad [X,X_\\alpha]=\\mathrm{i}\\alpha(X)X_\\alpha$$\n",
    "for some **root vector** $X_\\alpha\\in\\mathfrak{g}^\\mathbb{C}$.\n",
    "\n",
    "More generally, for any representation $\\pi: G\\to\\mathrm{GL}(V)$, a **weight** is an element $\\lambda\\in\\mathfrak{t}^\\ast$ such that\n",
    "$$\\forall X\\in\\mathfrak{t},\\qquad \\pi_\\ast(X)v_\\lambda=\\mathrm{i}\\lambda(X)v_\\lambda$$\n",
    "for some **weight vector** $v_\\lambda\\in V$."
   ]
  },
  {
   "cell_type": "markdown",
   "id": "8544d459-bb6c-419f-b2fa-ef082f7187c5",
   "metadata": {},
   "source": [
    "### 1) Playing around with root systems\n",
    "\n",
    "$G$ has a **Cartan type** corresponding to its system of roots. For example:"
   ]
  },
  {
   "cell_type": "markdown",
   "id": "5196c0b4-7b94-49be-b1c4-84b4c1cb2d1a",
   "metadata": {},
   "source": [
    "* $B_4$ corresponds to the group $\\mathrm{Spin}(9)$, or the Lie algebra $\\mathfrak{so}(9)$."
   ]
  },
  {
   "cell_type": "code",
   "execution_count": 63,
   "id": "3d805a11-5bbd-4ebc-9a61-a87dd2aacaa1",
   "metadata": {},
   "outputs": [
    {
     "data": {
      "text/plain": [
       "O---O---O=>=O\n",
       "1   2   3   4   \n",
       "B4"
      ]
     },
     "execution_count": 63,
     "metadata": {},
     "output_type": "execute_result"
    }
   ],
   "source": [
    "R=RootSystem(\"B4\")\n",
    "R.dynkin_diagram()"
   ]
  },
  {
   "cell_type": "markdown",
   "id": "b0fb7314-4568-4bdf-912d-e6380d82ee19",
   "metadata": {},
   "source": [
    "The roots are available as vectors (in some ambient space containing $\\mathfrak{t}^\\ast$). Here are the simple roots for $B_4$."
   ]
  },
  {
   "cell_type": "code",
   "execution_count": 64,
   "id": "2897c215-2574-45ee-aaab-8f844e2791ec",
   "metadata": {},
   "outputs": [
    {
     "data": {
      "text/plain": [
       "Finite family {1: (1, -1, 0, 0), 2: (0, 1, -1, 0), 3: (0, 0, 1, -1), 4: (0, 0, 0, 1)}"
      ]
     },
     "execution_count": 64,
     "metadata": {},
     "output_type": "execute_result"
    }
   ],
   "source": [
    "R.ambient_space().simple_roots()"
   ]
  },
  {
   "cell_type": "markdown",
   "id": "083c848d-8f08-46d9-82b8-42b0fe121c16",
   "metadata": {},
   "source": [
    "The *fundamental weights* of $G$ are a $\\mathbb{Z}_{\\geq0}$-basis for the set of dominant integral weights, which parametrize the irreducible representations of $G$."
   ]
  },
  {
   "cell_type": "code",
   "execution_count": 65,
   "id": "deaae9a9-9427-418e-a790-9a6c4d504696",
   "metadata": {},
   "outputs": [
    {
     "data": {
      "text/plain": [
       "Finite family {1: (1, 0, 0, 0), 2: (1, 1, 0, 0), 3: (1, 1, 1, 0), 4: (1/2, 1/2, 1/2, 1/2)}"
      ]
     },
     "execution_count": 65,
     "metadata": {},
     "output_type": "execute_result"
    }
   ],
   "source": [
    "R.ambient_space().fundamental_weights()"
   ]
  },
  {
   "cell_type": "markdown",
   "id": "e835830c-94f0-444d-9d62-408af8d8e8b1",
   "metadata": {},
   "source": [
    "* The ambient space and its basis follows the convention of Bourbaki. For example for $A_n$, corresponding to $G=\\mathrm{SU}(n+1)$, we think of $\\mathfrak{t}\\subset\\mathfrak{su}(n+1)$ as the space $\\{x\\in\\mathbb{R}^{n+1}\\,|\\,x_1+\\ldots x_{n+1}=0\\}$."
   ]
  },
  {
   "cell_type": "code",
   "execution_count": 66,
   "id": "fdbdbf78-d404-4d2d-b64b-78163187ca91",
   "metadata": {},
   "outputs": [
    {
     "data": {
      "text/plain": [
       "Finite family {1: (1, -1, 0, 0, 0), 2: (0, 1, -1, 0, 0), 3: (0, 0, 1, -1, 0), 4: (0, 0, 0, 1, -1)}"
      ]
     },
     "execution_count": 66,
     "metadata": {},
     "output_type": "execute_result"
    }
   ],
   "source": [
    "R=RootSystem(\"A4\")\n",
    "R.ambient_space().simple_roots()"
   ]
  },
  {
   "cell_type": "markdown",
   "id": "5a41ccaa-8655-4e0e-9534-1de533465404",
   "metadata": {},
   "source": [
    "SageMath can only handle **semisimple** groups, with one exception: Results for $A_n$, i.e. $G=\\mathrm{SU}(n+1)$, or $\\mathrm{SL}(n+1,\\mathbb{C})$ can also be interpreted as results for $\\mathrm{U}(n+1)$ resp. $\\mathrm{GL}(n+1,\\mathbb{C})$."
   ]
  },
  {
   "cell_type": "code",
   "execution_count": 67,
   "id": "af60e6e1-a5ca-4c0e-b0cb-b8f4f297fb58",
   "metadata": {},
   "outputs": [
    {
     "data": {
      "text/plain": [
       "Finite family {1: (1, 0, 0, 0, 0), 2: (1, 1, 0, 0, 0), 3: (1, 1, 1, 0, 0), 4: (1, 1, 1, 1, 0)}"
      ]
     },
     "execution_count": 67,
     "metadata": {},
     "output_type": "execute_result"
    }
   ],
   "source": [
    "fw=R.ambient_space().fundamental_weights()\n",
    "fw"
   ]
  },
  {
   "cell_type": "code",
   "execution_count": 68,
   "id": "2e07dead-d063-4cb5-a9b5-962028f5edf5",
   "metadata": {},
   "outputs": [
    {
     "data": {
      "text/plain": [
       "[(4/5, -1/5, -1/5, -1/5, -1/5),\n",
       " (3/5, 3/5, -2/5, -2/5, -2/5),\n",
       " (2/5, 2/5, 2/5, -3/5, -3/5),\n",
       " (1/5, 1/5, 1/5, 1/5, -4/5)]"
      ]
     },
     "execution_count": 68,
     "metadata": {},
     "output_type": "execute_result"
    }
   ],
   "source": [
    "[w.coerce_to_sl() for w in fw]"
   ]
  },
  {
   "cell_type": "markdown",
   "id": "1cd45ab3-d425-4042-badc-bddc61e01a04",
   "metadata": {},
   "source": [
    "* $G_2$ is an exceptional root system/Lie group. We can plot its roots:"
   ]
  },
  {
   "cell_type": "code",
   "execution_count": 69,
   "id": "0b01e0ae-e162-4968-a39b-5999db522f09",
   "metadata": {},
   "outputs": [
    {
     "data": {
      "text/plain": [
       "[(0, 1, -1), (1, -2, 1), (1, -1, 0), (1, 0, -1), (1, 1, -2), (2, -1, -1)]"
      ]
     },
     "execution_count": 69,
     "metadata": {},
     "output_type": "execute_result"
    }
   ],
   "source": [
    "posrootsG2=RootSystem(\"G2\").ambient_space().positive_roots()\n",
    "posrootsG2"
   ]
  },
  {
   "cell_type": "code",
   "execution_count": 70,
   "id": "732d87c9-651c-4272-bed0-ea18810bdba3",
   "metadata": {},
   "outputs": [
    {
     "data": {
      "text/html": [
       "\n",
       "<iframe srcdoc=\"&lt;!DOCTYPE html&gt;\n",
       "&lt;html&gt;\n",
       "&lt;head&gt;\n",
       "&lt;title&gt;&lt;/title&gt;\n",
       "&lt;meta charset=&quot;utf-8&quot;&gt;\n",
       "&lt;meta name=viewport content=&quot;width=device-width, user-scalable=no, minimum-scale=1.0, maximum-scale=1.0&quot;&gt;\n",
       "&lt;style&gt;\n",
       "\n",
       "    body { margin: 0px; overflow: hidden; }\n",
       "\n",
       "    #menu-container { position: absolute; bottom: 30px; right: 40px; cursor: default; }\n",
       "\n",
       "    #menu-message { position: absolute; bottom: 0px; right: 0px; white-space: nowrap;\n",
       "                    display: none; background-color: #F5F5F5; padding: 10px; }\n",
       "\n",
       "    #menu-content { position: absolute; bottom: 0px; right: 0px;\n",
       "                    display: none; background-color: #F5F5F5; border-bottom: 1px solid black;\n",
       "                    border-right: 1px solid black; border-left: 1px solid black; }\n",
       "\n",
       "    #menu-content div { border-top: 1px solid black; padding: 10px; white-space: nowrap; }\n",
       "\n",
       "    #menu-content div:hover { background-color: #FEFEFE; }\n",
       "\n",
       "    .dark-theme #menu-container { color: white; }\n",
       "\n",
       "    .dark-theme #menu-message { background-color: #181818; }\n",
       "\n",
       "    .dark-theme #menu-content { background-color: #181818; border-color: white; }\n",
       "\n",
       "    .dark-theme #menu-content div { border-color: white; }\n",
       "\n",
       "    .dark-theme #menu-content div:hover { background-color: #303030; }\n",
       "\n",
       "&lt;/style&gt;\n",
       "\n",
       "&lt;/head&gt;\n",
       "\n",
       "&lt;body&gt;\n",
       "\n",
       "&lt;script src=&quot;/nbextensions/threejs-sage/r122/three.min.js&quot;&gt;&lt;/script&gt;\n",
       "&lt;script&gt;\n",
       "  if ( !window.THREE ) document.write(&#x27; \\\n",
       "&lt;script src=&quot;https://cdn.jsdelivr.net/gh/sagemath/threejs-sage@r122/build/three.min.js&quot;&gt;&lt;\\/script&gt; \\\n",
       "            &#x27;);\n",
       "&lt;/script&gt;\n",
       "        \n",
       "&lt;script&gt;\n",
       "\n",
       "    var options = {&quot;animate&quot;: false, &quot;animationControls&quot;: true, &quot;aspectRatio&quot;: [1.0, 1.0, 1.0], &quot;autoScaling&quot;: [false, false, false], &quot;autoPlay&quot;: true, &quot;axes&quot;: false, &quot;axesLabels&quot;: [&quot;x&quot;, &quot;y&quot;, &quot;z&quot;], &quot;axesLabelsStyle&quot;: null, &quot;decimals&quot;: 2, &quot;delay&quot;: 20, &quot;frame&quot;: true, &quot;loop&quot;: true, &quot;projection&quot;: &quot;perspective&quot;, &quot;theme&quot;: &quot;light&quot;, &quot;viewpoint&quot;: [[-0.1875, -0.4511, -0.8726], 140.14]};\n",
       "    var animate = options.animate;\n",
       "\n",
       "    if ( options.theme === &#x27;dark&#x27; )\n",
       "        document.body.className = &#x27;dark-theme&#x27;;\n",
       "\n",
       "    var scene = new THREE.Scene();\n",
       "\n",
       "    var renderer = new THREE.WebGLRenderer( { antialias: true, preserveDrawingBuffer: true } );\n",
       "    renderer.setPixelRatio( window.devicePixelRatio );\n",
       "    renderer.setSize( window.innerWidth, window.innerHeight );\n",
       "    renderer.setClearColor( options.theme === &#x27;dark&#x27; ? 0 : 0xffffff, 1 );\n",
       "    document.body.appendChild( renderer.domElement );\n",
       "\n",
       "    var b = [{&quot;x&quot;:-2.0, &quot;y&quot;:-2.0, &quot;z&quot;:-2.0}, {&quot;x&quot;:2.0, &quot;y&quot;:2.0, &quot;z&quot;:2.0}]; // bounds\n",
       "\n",
       "    if ( b[0].x === b[1].x ) {\n",
       "        b[0].x -= 1;\n",
       "        b[1].x += 1;\n",
       "    }\n",
       "    if ( b[0].y === b[1].y ) {\n",
       "        b[0].y -= 1;\n",
       "        b[1].y += 1;\n",
       "    }\n",
       "    if ( b[0].z === b[1].z ) {\n",
       "        b[0].z -= 1;\n",
       "        b[1].z += 1;\n",
       "    }\n",
       "\n",
       "    var rxRange = Math.sqrt( Math.pow( b[1].z - b[0].z, 2 )\n",
       "                            + Math.pow( b[1].y - b[0].y, 2 ) );\n",
       "    var ryRange = Math.sqrt( Math.pow( b[1].x - b[0].x, 2 )\n",
       "                            + Math.pow( b[1].z - b[0].z, 2 ) );\n",
       "    var rzRange = Math.sqrt( Math.pow( b[1].x - b[0].x, 2 )\n",
       "                            + Math.pow( b[1].y - b[0].y, 2 ) );\n",
       "    var xRange = b[1].x - b[0].x;\n",
       "    var yRange = b[1].y - b[0].y;\n",
       "    var zRange = b[1].z - b[0].z;\n",
       "\n",
       "    var ar = options.aspectRatio;\n",
       "    var a = [ ar[0], ar[1], ar[2] ]; // aspect multipliers\n",
       "\n",
       "    var autoScaling = options.autoScaling;\n",
       "    var autoAspect = 2.5;\n",
       "    if ( xRange &gt; autoAspect * rxRange &amp;&amp; autoScaling[0] ) a[0] = autoAspect * rxRange / xRange;\n",
       "    if ( yRange &gt; autoAspect * ryRange &amp;&amp; autoScaling[1] ) a[1] = autoAspect * ryRange / yRange;\n",
       "    if ( zRange &gt; autoAspect * rzRange &amp;&amp; autoScaling[2] ) a[2] = autoAspect * rzRange / zRange;\n",
       "\n",
       "    // Distance from (xMid,yMid,zMid) to any corner of the bounding box, after applying aspectRatio\n",
       "    var midToCorner = Math.sqrt( a[0]*a[0]*xRange*xRange + a[1]*a[1]*yRange*yRange + a[2]*a[2]*zRange*zRange ) / 2;\n",
       "\n",
       "    var xMid = ( b[0].x + b[1].x ) / 2;\n",
       "    var yMid = ( b[0].y + b[1].y ) / 2;\n",
       "    var zMid = ( b[0].z + b[1].z ) / 2;\n",
       "\n",
       "    var box = new THREE.Geometry();\n",
       "    box.vertices.push( new THREE.Vector3( a[0]*b[0].x, a[1]*b[0].y, a[2]*b[0].z ) );\n",
       "    box.vertices.push( new THREE.Vector3( a[0]*b[1].x, a[1]*b[1].y, a[2]*b[1].z ) );\n",
       "    var boxMesh = new THREE.Line( box );\n",
       "    var boxColor = options.theme === &#x27;dark&#x27; ? &#x27;white&#x27; : &#x27;black&#x27;;\n",
       "    if ( options.frame ) scene.add( new THREE.BoxHelper( boxMesh, boxColor ) );\n",
       "\n",
       "    if ( options.axesLabels ) {\n",
       "\n",
       "        var d = options.decimals; // decimals\n",
       "        var offsetRatio = 0.1;\n",
       "        var al = options.axesLabels;\n",
       "        var als = options.axesLabelsStyle || [{}, {}, {}];\n",
       "\n",
       "        var offset = offsetRatio * a[1]*( b[1].y - b[0].y );\n",
       "        var xm = xMid.toFixed(d);\n",
       "        if ( /^-0.?0*$/.test(xm) ) xm = xm.substr(1);\n",
       "        addLabel( al[0] + &#x27;=&#x27; + xm, a[0]*xMid, a[1]*b[1].y+offset, a[2]*b[0].z, als[0] );\n",
       "        addLabel( ( b[0].x ).toFixed(d), a[0]*b[0].x, a[1]*b[1].y+offset, a[2]*b[0].z, als[0] );\n",
       "        addLabel( ( b[1].x ).toFixed(d), a[0]*b[1].x, a[1]*b[1].y+offset, a[2]*b[0].z, als[0] );\n",
       "\n",
       "        var offset = offsetRatio * a[0]*( b[1].x - b[0].x );\n",
       "        var ym = yMid.toFixed(d);\n",
       "        if ( /^-0.?0*$/.test(ym) ) ym = ym.substr(1);\n",
       "        addLabel( al[1] + &#x27;=&#x27; + ym, a[0]*b[1].x+offset, a[1]*yMid, a[2]*b[0].z, als[1] );\n",
       "        addLabel( ( b[0].y ).toFixed(d), a[0]*b[1].x+offset, a[1]*b[0].y, a[2]*b[0].z, als[1] );\n",
       "        addLabel( ( b[1].y ).toFixed(d), a[0]*b[1].x+offset, a[1]*b[1].y, a[2]*b[0].z, als[1] );\n",
       "\n",
       "        var offset = offsetRatio * a[1]*( b[1].y - b[0].y );\n",
       "        var zm = zMid.toFixed(d);\n",
       "        if ( /^-0.?0*$/.test(zm) ) zm = zm.substr(1);\n",
       "        addLabel( al[2] + &#x27;=&#x27; + zm, a[0]*b[1].x, a[1]*b[0].y-offset, a[2]*zMid, als[2] );\n",
       "        addLabel( ( b[0].z ).toFixed(d), a[0]*b[1].x, a[1]*b[0].y-offset, a[2]*b[0].z, als[2] );\n",
       "        addLabel( ( b[1].z ).toFixed(d), a[0]*b[1].x, a[1]*b[0].y-offset, a[2]*b[1].z, als[2] );\n",
       "\n",
       "    }\n",
       "\n",
       "    function addLabel( text, x, y, z, style ) {\n",
       "\n",
       "        var color = style.color || &#x27;black&#x27;;\n",
       "        var fontSize = style.fontSize || 14;\n",
       "        var fontFamily = style.fontFamily || &#x27;monospace&#x27;;\n",
       "        var fontStyle = style.fontStyle || &#x27;normal&#x27;;\n",
       "        var fontWeight = style.fontWeight || &#x27;normal&#x27;;\n",
       "        var opacity = style.opacity || 1;\n",
       "\n",
       "        if ( options.theme === &#x27;dark&#x27; )\n",
       "            if ( color === &#x27;black&#x27; || color === &#x27;#000000&#x27; )\n",
       "                color = &#x27;white&#x27;;\n",
       "\n",
       "        if ( Array.isArray( fontStyle ) ) {\n",
       "            fontFamily = fontFamily.map( function( f ) {\n",
       "                // Need to put quotes around fonts that have whitespace in their names.\n",
       "                return /\\s/.test( f ) ? &#x27;&quot;&#x27; + f + &#x27;&quot;&#x27; : f;\n",
       "            }).join(&#x27;, &#x27;);\n",
       "        }\n",
       "\n",
       "        var canvas = document.createElement( &#x27;canvas&#x27; );\n",
       "        var context = canvas.getContext( &#x27;2d&#x27; );\n",
       "        var pixelRatio = Math.round( window.devicePixelRatio );\n",
       "\n",
       "        // For example: italic bold 20px &quot;Times New Roman&quot;, Georgia, serif\n",
       "        var font = [fontStyle, fontWeight, fontSize + &#x27;px&#x27;, fontFamily].join(&#x27; &#x27;);\n",
       "\n",
       "        context.font = font;\n",
       "        var width = context.measureText( text ).width;\n",
       "        var height = fontSize;\n",
       "\n",
       "        // The dimensions of the canvas&#x27;s underlying image data need to be powers\n",
       "        // of two in order for the resulting texture to support mipmapping.\n",
       "        canvas.width = THREE.MathUtils.ceilPowerOfTwo( width * pixelRatio );\n",
       "        canvas.height = THREE.MathUtils.ceilPowerOfTwo( height * pixelRatio );\n",
       "\n",
       "        // Re-compute the unscaled dimensions after the power of two conversion.\n",
       "        width = canvas.width / pixelRatio;\n",
       "        height = canvas.height / pixelRatio;\n",
       "\n",
       "        canvas.style.width = width + &#x27;px&#x27;;\n",
       "        canvas.style.height = height + &#x27;px&#x27;;\n",
       "\n",
       "        context.scale( pixelRatio, pixelRatio );\n",
       "        context.fillStyle = color;\n",
       "        context.font = font; // Must be set again after measureText.\n",
       "        context.textAlign = &#x27;center&#x27;;\n",
       "        context.textBaseline = &#x27;middle&#x27;;\n",
       "        context.fillText( text, width/2, height/2 );\n",
       "\n",
       "        var texture = new THREE.Texture( canvas );\n",
       "        texture.needsUpdate = true;\n",
       "\n",
       "        var materialOptions = { map: texture, sizeAttenuation: false, depthWrite: false };\n",
       "        if ( opacity &lt; 1 ) {\n",
       "            // Setting opacity=1 would cause the texture&#x27;s alpha component to be\n",
       "            // discarded, giving the text a black background instead of the\n",
       "            // background being transparent.\n",
       "            materialOptions.opacity = opacity;\n",
       "        }\n",
       "        var sprite = new THREE.Sprite( new THREE.SpriteMaterial( materialOptions ) );\n",
       "        sprite.position.set( x, y, z );\n",
       "\n",
       "        // Scaling factor, chosen somewhat arbitrarily so that the size of the text\n",
       "        // is consistent with previously generated plots.\n",
       "        var scale = 1/625;\n",
       "        if ( options.projection === &#x27;orthographic&#x27; ) {\n",
       "            scale = midToCorner/256; // Needs to scale along with the plot itself.\n",
       "        }\n",
       "        sprite.scale.set( scale * width, scale * height, 1 );\n",
       "\n",
       "        scene.add( sprite );\n",
       "\n",
       "        return sprite;\n",
       "\n",
       "    }\n",
       "\n",
       "    if ( options.axes ) scene.add( new THREE.AxesHelper( Math.min( a[0]*b[1].x, a[1]*b[1].y, a[2]*b[1].z ) ) );\n",
       "\n",
       "    var camera = createCamera();\n",
       "    camera.up.set( 0, 0, 1 );\n",
       "    camera.position.set( a[0]*xMid, a[1]*yMid, a[2]*zMid );\n",
       "\n",
       "    // camera is positioned so that the line from the camera to the center\n",
       "    // of the bounding sphere of the objects makes an angle of 60 degrees with x-axis\n",
       "    // and an angle of 30 degrees with z-axis and the field of view of the camera looking\n",
       "    // at the center has an angle of 45 degrees.\n",
       "    const sin8 = Math.sin(Math.PI / 8);\n",
       "    const sin5 = Math.sin(Math.PI / 5);\n",
       "    const cos5 = Math.cos(Math.PI / 5);\n",
       "    const sin3 = Math.sin(Math.PI / 3);\n",
       "    const cos3 = Math.cos(Math.PI / 3);\n",
       "    var r = midToCorner / sin8;\n",
       "    var offset = new THREE.Vector3( r * sin3 * cos5, r * sin3 * sin5, r * cos3 );\n",
       "\n",
       "    if ( options.viewpoint ) {\n",
       "\n",
       "        var aa = options.viewpoint;\n",
       "        var axis = new THREE.Vector3( aa[0][0], aa[0][1], aa[0][2] ).normalize();\n",
       "        var angle = aa[1] * Math.PI / 180;\n",
       "        var q = new THREE.Quaternion().setFromAxisAngle( axis, angle ).inverse();\n",
       "\n",
       "        offset.set( 0, 0, offset.length() );\n",
       "        offset.applyQuaternion( q );\n",
       "\n",
       "    }\n",
       "\n",
       "    camera.position.add( offset );\n",
       "\n",
       "    function createCamera() {\n",
       "\n",
       "        var aspect = window.innerWidth / window.innerHeight;\n",
       "\n",
       "        // Scale the near and far clipping planes along with the overall plot size.\n",
       "        var nearClip = 0.01 * midToCorner;\n",
       "        var farClip = 100 * midToCorner;\n",
       "\n",
       "        if ( options.projection === &#x27;orthographic&#x27; ) {\n",
       "            var camera = new THREE.OrthographicCamera( -1, 1, 1, -1, -farClip, farClip );\n",
       "            updateCameraAspect( camera, aspect );\n",
       "            return camera;\n",
       "        }\n",
       "\n",
       "        return new THREE.PerspectiveCamera( 45, aspect, nearClip, farClip );\n",
       "\n",
       "    }\n",
       "\n",
       "    function updateCameraAspect( camera, aspect ) {\n",
       "\n",
       "        if ( camera.isPerspectiveCamera ) {\n",
       "            camera.aspect = aspect;\n",
       "        } else if ( camera.isOrthographicCamera ) {\n",
       "            // Fit the camera frustum to the bounding box&#x27;s diagonal so that the entire plot fits\n",
       "            // within at the default zoom level and camera position.\n",
       "            if ( aspect &gt; 1 ) { // Wide window\n",
       "                camera.top = midToCorner;\n",
       "                camera.right = midToCorner * aspect;\n",
       "            } else { // Tall or square window\n",
       "                camera.top = midToCorner / aspect;\n",
       "                camera.right = midToCorner;\n",
       "            }\n",
       "            camera.bottom = -camera.top;\n",
       "            camera.left = -camera.right;\n",
       "        }\n",
       "\n",
       "        camera.updateProjectionMatrix();\n",
       "\n",
       "    }\n",
       "\n",
       "    var lights = [{&quot;x&quot;:-5, &quot;y&quot;:3, &quot;z&quot;:0, &quot;color&quot;:&quot;#7f7f7f&quot;, &quot;parent&quot;:&quot;camera&quot;}];\n",
       "    for ( var i=0 ; i &lt; lights.length ; i++ ) {\n",
       "        var light = new THREE.DirectionalLight( lights[i].color, 1 );\n",
       "        light.position.set( a[0]*lights[i].x, a[1]*lights[i].y, a[2]*lights[i].z );\n",
       "        if ( lights[i].parent === &#x27;camera&#x27; ) {\n",
       "            light.target.position.set( a[0]*xMid, a[1]*yMid, a[2]*zMid );\n",
       "            scene.add( light.target );\n",
       "            camera.add( light );\n",
       "        } else scene.add( light );\n",
       "    }\n",
       "    scene.add( camera );\n",
       "\n",
       "    var ambient = {&quot;color&quot;:&quot;#7f7f7f&quot;};\n",
       "    scene.add( new THREE.AmbientLight( ambient.color, 1 ) );\n",
       "\n",
       "    var controls = new THREE.OrbitControls( camera, renderer.domElement );\n",
       "    controls.target.set( a[0]*xMid, a[1]*yMid, a[2]*zMid );\n",
       "    controls.addEventListener( &#x27;change&#x27;, function() { if ( !animate ) render(); } );\n",
       "\n",
       "    window.addEventListener( &#x27;resize&#x27;, function() {\n",
       "\n",
       "        renderer.setSize( window.innerWidth, window.innerHeight );\n",
       "        updateCameraAspect( camera, window.innerWidth / window.innerHeight );\n",
       "        if ( window.rescaleFatLines ) rescaleFatLines();\n",
       "        if ( !animate ) render();\n",
       "\n",
       "    } );\n",
       "\n",
       "    var texts = [];\n",
       "    for ( var i=0 ; i &lt; texts.length ; i++ ) addText( texts[i] );\n",
       "\n",
       "    function addText( json ) {\n",
       "        var sprite = addLabel( json.text, a[0]*json.x, a[1]*json.y, a[2]*json.z, json );\n",
       "        sprite.userData = json;\n",
       "    }\n",
       "\n",
       "    var points = [];\n",
       "    for ( var i=0 ; i &lt; points.length ; i++ ) addPoint( points[i] );\n",
       "\n",
       "    function addPoint( json ) {\n",
       "\n",
       "        var geometry = new THREE.Geometry();\n",
       "        var v = json.point;\n",
       "        geometry.vertices.push( new THREE.Vector3( a[0]*v[0], a[1]*v[1], a[2]*v[2] ) );\n",
       "\n",
       "        var canvas = document.createElement( &#x27;canvas&#x27; );\n",
       "        canvas.width = 128;\n",
       "        canvas.height = 128;\n",
       "\n",
       "        var context = canvas.getContext( &#x27;2d&#x27; );\n",
       "        context.arc( 64, 64, 64, 0, 2 * Math.PI );\n",
       "        context.fillStyle = json.color;\n",
       "        context.fill();\n",
       "\n",
       "        var texture = new THREE.Texture( canvas );\n",
       "        texture.needsUpdate = true;\n",
       "\n",
       "        var transparent = json.opacity &lt; 1 ? true : false;\n",
       "        var size = camera.isOrthographicCamera ? json.size : json.size/100;\n",
       "        var material = new THREE.PointsMaterial( { size: size, map: texture,\n",
       "                                                   transparent: transparent, opacity: json.opacity,\n",
       "                                                   alphaTest: .1 } );\n",
       "\n",
       "        var c = new THREE.Vector3();\n",
       "        geometry.computeBoundingBox();\n",
       "        geometry.boundingBox.getCenter( c );\n",
       "        geometry.translate( -c.x, -c.y, -c.z );\n",
       "\n",
       "        var mesh = new THREE.Points( geometry, material );\n",
       "        mesh.position.set( c.x, c.y, c.z );\n",
       "        mesh.userData = json;\n",
       "        scene.add( mesh );\n",
       "\n",
       "    }\n",
       "\n",
       "    var lines = [];\n",
       "    for ( var i=0 ; i &lt; lines.length ; i++ ) addLine( lines[i] );\n",
       "\n",
       "    function addLine( json ) {\n",
       "\n",
       "        var geometry = new THREE.Geometry();\n",
       "        for ( var i=0 ; i &lt; json.points.length ; i++ ) {\n",
       "            var v = json.points[i];\n",
       "            geometry.vertices.push( new THREE.Vector3( a[0]*v[0], a[1]*v[1], a[2]*v[2] ) );\n",
       "        }\n",
       "\n",
       "        var c = new THREE.Vector3();\n",
       "        geometry.computeBoundingBox();\n",
       "        geometry.boundingBox.getCenter( c );\n",
       "        geometry.translate( -c.x, -c.y, -c.z );\n",
       "\n",
       "        var transparent = json.opacity &lt; 1 ? true : false;\n",
       "        var materialOptions = { color: json.color, linewidth: json.linewidth,\n",
       "                                transparent: transparent, opacity: json.opacity };\n",
       "\n",
       "        var mesh;\n",
       "        if ( json.linewidth &gt; 1 &amp;&amp; window.createFatLineStrip ) {\n",
       "            mesh = createFatLineStrip( geometry, materialOptions );\n",
       "        } else {\n",
       "            var material = new THREE.LineBasicMaterial( materialOptions );\n",
       "            mesh = new THREE.Line( geometry, material );\n",
       "        }\n",
       "\n",
       "        mesh.position.set( c.x, c.y, c.z );\n",
       "        mesh.userData = json;\n",
       "        scene.add( mesh );\n",
       "\n",
       "    }\n",
       "\n",
       "    var surfaces = [{&quot;vertices&quot;: [{&quot;x&quot;: 0.0, &quot;y&quot;: 0.8727207793864216, &quot;z&quot;: -0.8727207793864215}, {&quot;x&quot;: 0.019021130325903073, &quot;y&quot;: 0.8683506191419333, &quot;z&quot;: -0.8770909396309097}, {&quot;x&quot;: 0.0, &quot;y&quot;: 0.8585786437626907, &quot;z&quot;: -0.8868629150101524}, {&quot;x&quot;: 0.011755705045849465, &quot;y&quot;: 0.8841620074427753, &quot;z&quot;: -0.8612795513300677}, {&quot;x&quot;: -0.011755705045849461, &quot;y&quot;: 0.8841620074427753, &quot;z&quot;: -0.8612795513300677}, {&quot;x&quot;: -0.019021130325903073, &quot;y&quot;: 0.8683506191419333, &quot;z&quot;: -0.8770909396309097}, {&quot;x&quot;: 0.019021130325903073, &quot;y&quot;: -0.004370160244488211, &quot;z&quot;: -0.0043701602444882115}, {&quot;x&quot;: 0.0, &quot;y&quot;: -0.014142135623730949, &quot;z&quot;: -0.014142135623730952}, {&quot;x&quot;: 0.011755705045849465, &quot;y&quot;: 0.011441228056353685, &quot;z&quot;: 0.011441228056353687}, {&quot;x&quot;: -0.011755705045849461, &quot;y&quot;: 0.011441228056353687, &quot;z&quot;: 0.011441228056353689}, {&quot;x&quot;: -0.019021130325903073, &quot;y&quot;: -0.004370160244488208, &quot;z&quot;: -0.004370160244488209}, {&quot;x&quot;: 0.0, &quot;y&quot;: 0.0, &quot;z&quot;: 0.0}], &quot;faces&quot;: [[0, 1, 2], [0, 3, 1], [0, 4, 3], [0, 5, 4], [0, 2, 5], [2, 1, 6, 7], [1, 3, 8, 6], [3, 4, 9, 8], [4, 5, 10, 9], [5, 2, 7, 10], [7, 6, 11], [6, 8, 11], [8, 9, 11], [9, 10, 11], [10, 7, 11]], &quot;color&quot;: &quot;#6666ff&quot;, &quot;opacity&quot;: 1.0}, {&quot;vertices&quot;: [{&quot;x&quot;: 0.0, &quot;y&quot;: 1.0, &quot;z&quot;: -1.0}, {&quot;x&quot;: 0.05706339097770921, &quot;y&quot;: 0.8596102986529569, &quot;z&quot;: -0.8858312601198861}, {&quot;x&quot;: 0.0, &quot;y&quot;: 0.8302943725152288, &quot;z&quot;: -0.9151471862576143}, {&quot;x&quot;: 0.03526711513754839, &quot;y&quot;: 0.9070444635554826, &quot;z&quot;: -0.8383970952173604}, {&quot;x&quot;: -0.03526711513754838, &quot;y&quot;: 0.9070444635554826, &quot;z&quot;: -0.8383970952173604}, {&quot;x&quot;: -0.05706339097770922, &quot;y&quot;: 0.8596102986529569, &quot;z&quot;: -0.8858312601198861}, {&quot;x&quot;: 0.0, &quot;y&quot;: 0.8727207793864216, &quot;z&quot;: -0.8727207793864215}], &quot;faces&quot;: [[0, 1, 2], [0, 3, 1], [0, 4, 3], [0, 5, 4], [0, 2, 5], [2, 1, 6], [1, 3, 6], [3, 4, 6], [4, 5, 6], [5, 2, 6]], &quot;color&quot;: &quot;#6666ff&quot;, &quot;opacity&quot;: 1.0}, {&quot;vertices&quot;: [{&quot;x&quot;: 0.0, &quot;y&quot;: -0.8727207793864216, &quot;z&quot;: 0.8727207793864215}, {&quot;x&quot;: 0.019021130325903073, &quot;y&quot;: -0.8683506191419333, &quot;z&quot;: 0.8770909396309097}, {&quot;x&quot;: 0.0, &quot;y&quot;: -0.8585786437626907, &quot;z&quot;: 0.8868629150101524}, {&quot;x&quot;: 0.011755705045849465, &quot;y&quot;: -0.8841620074427753, &quot;z&quot;: 0.8612795513300677}, {&quot;x&quot;: -0.011755705045849461, &quot;y&quot;: -0.8841620074427753, &quot;z&quot;: 0.8612795513300677}, {&quot;x&quot;: -0.019021130325903073, &quot;y&quot;: -0.8683506191419333, &quot;z&quot;: 0.8770909396309097}, {&quot;x&quot;: 0.019021130325903073, &quot;y&quot;: 0.004370160244488211, &quot;z&quot;: 0.0043701602444882115}, {&quot;x&quot;: 0.0, &quot;y&quot;: 0.014142135623730949, &quot;z&quot;: 0.014142135623730952}, {&quot;x&quot;: 0.011755705045849465, &quot;y&quot;: -0.011441228056353685, &quot;z&quot;: -0.011441228056353687}, {&quot;x&quot;: -0.011755705045849461, &quot;y&quot;: -0.011441228056353687, &quot;z&quot;: -0.011441228056353689}, {&quot;x&quot;: -0.019021130325903073, &quot;y&quot;: 0.004370160244488208, &quot;z&quot;: 0.004370160244488209}, {&quot;x&quot;: 0.0, &quot;y&quot;: 0.0, &quot;z&quot;: 0.0}], &quot;faces&quot;: [[0, 1, 2], [0, 3, 1], [0, 4, 3], [0, 5, 4], [0, 2, 5], [2, 1, 6, 7], [1, 3, 8, 6], [3, 4, 9, 8], [4, 5, 10, 9], [5, 2, 7, 10], [7, 6, 11], [6, 8, 11], [8, 9, 11], [9, 10, 11], [10, 7, 11]], &quot;color&quot;: &quot;#6666ff&quot;, &quot;opacity&quot;: 1.0}, {&quot;vertices&quot;: [{&quot;x&quot;: 0.0, &quot;y&quot;: -1.0, &quot;z&quot;: 1.0}, {&quot;x&quot;: 0.05706339097770921, &quot;y&quot;: -0.8596102986529569, &quot;z&quot;: 0.8858312601198861}, {&quot;x&quot;: 0.0, &quot;y&quot;: -0.8302943725152288, &quot;z&quot;: 0.9151471862576143}, {&quot;x&quot;: 0.03526711513754839, &quot;y&quot;: -0.9070444635554826, &quot;z&quot;: 0.8383970952173604}, {&quot;x&quot;: -0.03526711513754838, &quot;y&quot;: -0.9070444635554826, &quot;z&quot;: 0.8383970952173604}, {&quot;x&quot;: -0.05706339097770922, &quot;y&quot;: -0.8596102986529569, &quot;z&quot;: 0.8858312601198861}, {&quot;x&quot;: 0.0, &quot;y&quot;: -0.8727207793864216, &quot;z&quot;: 0.8727207793864215}], &quot;faces&quot;: [[0, 1, 2], [0, 3, 1], [0, 4, 3], [0, 5, 4], [0, 2, 5], [2, 1, 6], [1, 3, 6], [3, 4, 6], [4, 5, 6], [5, 2, 6]], &quot;color&quot;: &quot;#6666ff&quot;, &quot;opacity&quot;: 1.0}, {&quot;vertices&quot;: [{&quot;x&quot;: 0.9265153077165044, &quot;y&quot;: -1.8530306154330087, &quot;z&quot;: 0.9265153077165049}, {&quot;x&quot;: 0.9447481714424516, &quot;y&quot;: -1.8452737423455983, &quot;z&quot;: 0.9237961901653788}, {&quot;x&quot;: 0.9312493213927935, &quot;y&quot;: -1.842498642785587, &quot;z&quot;: 0.9428452393350595}, {&quot;x&quot;: 0.9330498235350957, &quot;y&quot;: -1.8587685768659914, &quot;z&quot;: 0.908504869031948}, {&quot;x&quot;: 0.9123209968664704, &quot;y&quot;: -1.8643337437121388, &quot;z&quot;: 0.918103362008279}, {&quot;x&quot;: 0.9112082253457106, &quot;y&quot;: -1.8542783714557285, &quot;z&quot;: 0.9393268780418593}, {&quot;x&quot;: 0.018232863725947266, &quot;y&quot;: 0.007756873087410566, &quot;z&quot;: -0.0027191175511261318}, {&quot;x&quot;: 0.0047340136762890955, &quot;y&quot;: 0.01053197264742181, &quot;z&quot;: 0.01632993161855452}, {&quot;x&quot;: 0.006534515818591363, &quot;y&quot;: -0.005737961432982747, &quot;z&quot;: -0.01801043868455685}, {&quot;x&quot;: -0.01419431085003396, &quot;y&quot;: -0.011303128279129956, &quot;z&quot;: -0.00841194570822595}, {&quot;x&quot;: -0.015307082370793762, &quot;y&quot;: -0.0012477560227196764, &quot;z&quot;: 0.012811570325354404}, {&quot;x&quot;: 0.0, &quot;y&quot;: 0.0, &quot;z&quot;: 0.0}], &quot;faces&quot;: [[0, 1, 2], [0, 3, 1], [0, 4, 3], [0, 5, 4], [0, 2, 5], [2, 1, 6, 7], [1, 3, 8, 6], [3, 4, 9, 8], [4, 5, 10, 9], [5, 2, 7, 10], [7, 6, 11], [6, 8, 11], [8, 9, 11], [9, 10, 11], [10, 7, 11]], &quot;color&quot;: &quot;#6666ff&quot;, &quot;opacity&quot;: 1.0}, {&quot;vertices&quot;: [{&quot;x&quot;: 0.9999999999999997, &quot;y&quot;: -1.9999999999999993, &quot;z&quot;: 1.0000000000000002}, {&quot;x&quot;: 0.9812138988943462, &quot;y&quot;: -1.8297599961707771, &quot;z&quot;: 0.9183579550631266}, {&quot;x&quot;: 0.9407173487453716, &quot;y&quot;: -1.8214346974907434, &quot;z&quot;: 0.9755051025721685}, {&quot;x&quot;: 0.9461188551722785, &quot;y&quot;: -1.870244499731957, &quot;z&quot;: 0.8724839916628344}, {&quot;x&quot;: 0.8839323751664026, &quot;y&quot;: -1.8869400002703987, &quot;z&quot;: 0.9012794705918271}, {&quot;x&quot;: 0.880594060604123, &quot;y&quot;: -1.8567738835011678, &quot;z&quot;: 0.9649500186925681}, {&quot;x&quot;: 0.9265153077165044, &quot;y&quot;: -1.8530306154330087, &quot;z&quot;: 0.9265153077165049}], &quot;faces&quot;: [[0, 1, 2], [0, 3, 1], [0, 4, 3], [0, 5, 4], [0, 2, 5], [2, 1, 6], [1, 3, 6], [3, 4, 6], [4, 5, 6], [5, 2, 6]], &quot;color&quot;: &quot;#6666ff&quot;, &quot;opacity&quot;: 1.0}, {&quot;vertices&quot;: [{&quot;x&quot;: -0.9265153077165044, &quot;y&quot;: 1.8530306154330087, &quot;z&quot;: -0.9265153077165046}, {&quot;x&quot;: -0.9093700910110075, &quot;y&quot;: 1.8629627825613202, &quot;z&quot;: -0.9237961901653785}, {&quot;x&quot;: -0.9152493213927935, &quot;y&quot;: 1.850498642785587, &quot;z&quot;: -0.9428452393350591}, {&quot;x&quot;: -0.9271849673717357, &quot;y&quot;: 1.8617010049476714, &quot;z&quot;: -0.9085048690319477}, {&quot;x&quot;: -0.9440743968498287, &quot;y&quot;: 1.8484570437204595, &quot;z&quot;: -0.9181033620082787}, {&quot;x&quot;: -0.9366977619571564, &quot;y&quot;: 1.8415336031500056, &quot;z&quot;: -0.939326878041859}, {&quot;x&quot;: 0.017145216705496808, &quot;y&quot;: 0.00993216712831147, &quot;z&quot;: 0.0027191175511261318}, {&quot;x&quot;: 0.011265986323710904, &quot;y&quot;: -0.0025319726474218097, &quot;z&quot;: -0.01632993161855452}, {&quot;x&quot;: -0.0006696596552313791, &quot;y&quot;: 0.008670389514662737, &quot;z&quot;: 0.01801043868455685}, {&quot;x&quot;: -0.017559089133324338, &quot;y&quot;: -0.0045735717125491935, &quot;z&quot;: 0.00841194570822595}, {&quot;x&quot;: -0.010182454240651997, &quot;y&quot;: -0.011497012283003202, &quot;z&quot;: -0.012811570325354404}, {&quot;x&quot;: 0.0, &quot;y&quot;: 0.0, &quot;z&quot;: 0.0}], &quot;faces&quot;: [[0, 1, 2], [0, 3, 1], [0, 4, 3], [0, 5, 4], [0, 2, 5], [2, 1, 6, 7], [1, 3, 8, 6], [3, 4, 9, 8], [4, 5, 10, 9], [5, 2, 7, 10], [7, 6, 11], [6, 8, 11], [8, 9, 11], [9, 10, 11], [10, 7, 11]], &quot;color&quot;: &quot;#6666ff&quot;, &quot;opacity&quot;: 1.0}, {&quot;vertices&quot;: [{&quot;x&quot;: -0.9999999999999997, &quot;y&quot;: 1.9999999999999993, &quot;z&quot;: -1.0}, {&quot;x&quot;: -0.8750796576000139, &quot;y&quot;: 1.8828271168179431, &quot;z&quot;: -0.9183579550631262}, {&quot;x&quot;: -0.8927173487453717, &quot;y&quot;: 1.8454346974907434, &quot;z&quot;: -0.9755051025721682}, {&quot;x&quot;: -0.9285242866821986, &quot;y&quot;: 1.8790417839769968, &quot;z&quot;: -0.8724839916628341}, {&quot;x&quot;: -0.9791925751164774, &quot;y&quot;: 1.8393099002953612, &quot;z&quot;: -0.9012794705918268}, {&quot;x&quot;: -0.9570626704384604, &quot;y&quot;: 1.818539578583999, &quot;z&quot;: -0.9649500186925678}, {&quot;x&quot;: -0.9265153077165044, &quot;y&quot;: 1.8530306154330087, &quot;z&quot;: -0.9265153077165046}], &quot;faces&quot;: [[0, 1, 2], [0, 3, 1], [0, 4, 3], [0, 5, 4], [0, 2, 5], [2, 1, 6], [1, 3, 6], [3, 4, 6], [4, 5, 6], [5, 2, 6]], &quot;color&quot;: &quot;#6666ff&quot;, &quot;opacity&quot;: 1.0}, {&quot;vertices&quot;: [{&quot;x&quot;: 0.8727207793864215, &quot;y&quot;: -0.8727207793864215, &quot;z&quot;: 7.557378443122316e-17}, {&quot;x&quot;: 0.8853215144931225, &quot;y&quot;: -0.8601200442797204, &quot;z&quot;: -0.009079809994790859}, {&quot;x&quot;: 0.8827207793864215, &quot;y&quot;: -0.8627207793864214, &quot;z&quot;: 0.014142135623731025}, {&quot;x&quot;: 0.8705084619655967, &quot;y&quot;: -0.8749330968072462, &quot;z&quot;: -0.019753766811902676}, {&quot;x&quot;: 0.8587527569197473, &quot;y&quot;: -0.8866888018530956, &quot;z&quot;: -0.003128689300804544}, {&quot;x&quot;: 0.8663003841672194, &quot;y&quot;: -0.8791411746056235, &quot;z&quot;: 0.01782013048376743}, {&quot;x&quot;: 0.012600735106701007, &quot;y&quot;: 0.012600735106701007, &quot;z&quot;: -0.009079809994790935}, {&quot;x&quot;: 0.009999999999999997, &quot;y&quot;: 0.009999999999999998, &quot;z&quot;: 0.014142135623730949}, {&quot;x&quot;: -0.0022123174208247397, &quot;y&quot;: -0.0022123174208247415, &quot;z&quot;: -0.019753766811902752}, {&quot;x&quot;: -0.013968022466674201, &quot;y&quot;: -0.013968022466674203, &quot;z&quot;: -0.0031286893008046195}, {&quot;x&quot;: -0.006420395219202063, &quot;y&quot;: -0.006420395219202062, &quot;z&quot;: 0.017820130483767353}, {&quot;x&quot;: 0.0, &quot;y&quot;: 0.0, &quot;z&quot;: 0.0}], &quot;faces&quot;: [[0, 1, 2], [0, 3, 1], [0, 4, 3], [0, 5, 4], [0, 2, 5], [2, 1, 6, 7], [1, 3, 8, 6], [3, 4, 9, 8], [4, 5, 10, 9], [5, 2, 7, 10], [7, 6, 11], [6, 8, 11], [8, 9, 11], [9, 10, 11], [10, 7, 11]], &quot;color&quot;: &quot;#6666ff&quot;, &quot;opacity&quot;: 1.0}, {&quot;vertices&quot;: [{&quot;x&quot;: 1.0, &quot;y&quot;: -1.0, &quot;z&quot;: 8.659560562354934e-17}, {&quot;x&quot;: 0.9105229847065245, &quot;y&quot;: -0.8349185740663184, &quot;z&quot;: -0.02723942998437272}, {&quot;x&quot;: 0.9027207793864215, &quot;y&quot;: -0.8427207793864214, &quot;z&quot;: 0.04242640687119292}, {&quot;x&quot;: 0.8660838271239473, &quot;y&quot;: -0.8793577316488956, &quot;z&quot;: -0.05926130043570818}, {&quot;x&quot;: 0.8308167119863988, &quot;y&quot;: -0.9146248467864441, &quot;z&quot;: -0.009386067902413791}, {&quot;x&quot;: 0.8534595937288153, &quot;y&quot;: -0.8919819650440276, &quot;z&quot;: 0.05346039145130214}, {&quot;x&quot;: 0.8727207793864215, &quot;y&quot;: -0.8727207793864215, &quot;z&quot;: 7.557378443122316e-17}], &quot;faces&quot;: [[0, 1, 2], [0, 3, 1], [0, 4, 3], [0, 5, 4], [0, 2, 5], [2, 1, 6], [1, 3, 6], [3, 4, 6], [4, 5, 6], [5, 2, 6]], &quot;color&quot;: &quot;#6666ff&quot;, &quot;opacity&quot;: 1.0}, {&quot;vertices&quot;: [{&quot;x&quot;: -0.8727207793864215, &quot;y&quot;: 0.8727207793864215, &quot;z&quot;: 7.557378443122316e-17}, {&quot;x&quot;: -0.8601200442797204, &quot;y&quot;: 0.8853215144931225, &quot;z&quot;: 0.009079809994791011}, {&quot;x&quot;: -0.8627207793864214, &quot;y&quot;: 0.8827207793864215, &quot;z&quot;: -0.014142135623730873}, {&quot;x&quot;: -0.8749330968072462, &quot;y&quot;: 0.8705084619655967, &quot;z&quot;: 0.01975376681190283}, {&quot;x&quot;: -0.8866888018530956, &quot;y&quot;: 0.8587527569197473, &quot;z&quot;: 0.003128689300804695}, {&quot;x&quot;: -0.8791411746056235, &quot;y&quot;: 0.8663003841672194, &quot;z&quot;: -0.017820130483767276}, {&quot;x&quot;: 0.012600735106701007, &quot;y&quot;: 0.012600735106701007, &quot;z&quot;: 0.009079809994790935}, {&quot;x&quot;: 0.009999999999999997, &quot;y&quot;: 0.009999999999999998, &quot;z&quot;: -0.014142135623730949}, {&quot;x&quot;: -0.0022123174208247397, &quot;y&quot;: -0.0022123174208247415, &quot;z&quot;: 0.019753766811902752}, {&quot;x&quot;: -0.013968022466674201, &quot;y&quot;: -0.013968022466674203, &quot;z&quot;: 0.0031286893008046195}, {&quot;x&quot;: -0.006420395219202063, &quot;y&quot;: -0.006420395219202062, &quot;z&quot;: -0.017820130483767353}, {&quot;x&quot;: 0.0, &quot;y&quot;: 0.0, &quot;z&quot;: 0.0}], &quot;faces&quot;: [[0, 1, 2], [0, 3, 1], [0, 4, 3], [0, 5, 4], [0, 2, 5], [2, 1, 6, 7], [1, 3, 8, 6], [3, 4, 9, 8], [4, 5, 10, 9], [5, 2, 7, 10], [7, 6, 11], [6, 8, 11], [8, 9, 11], [9, 10, 11], [10, 7, 11]], &quot;color&quot;: &quot;#6666ff&quot;, &quot;opacity&quot;: 1.0}, {&quot;vertices&quot;: [{&quot;x&quot;: -1.0, &quot;y&quot;: 1.0, &quot;z&quot;: 8.659560562354934e-17}, {&quot;x&quot;: -0.8349185740663184, &quot;y&quot;: 0.9105229847065245, &quot;z&quot;: 0.027239429984372874}, {&quot;x&quot;: -0.8427207793864214, &quot;y&quot;: 0.9027207793864215, &quot;z&quot;: -0.04242640687119277}, {&quot;x&quot;: -0.8793577316488956, &quot;y&quot;: 0.8660838271239473, &quot;z&quot;: 0.05926130043570833}, {&quot;x&quot;: -0.9146248467864441, &quot;y&quot;: 0.8308167119863988, &quot;z&quot;: 0.009386067902413944}, {&quot;x&quot;: -0.8919819650440276, &quot;y&quot;: 0.8534595937288153, &quot;z&quot;: -0.053460391451301985}, {&quot;x&quot;: -0.8727207793864215, &quot;y&quot;: 0.8727207793864215, &quot;z&quot;: 7.557378443122316e-17}], &quot;faces&quot;: [[0, 1, 2], [0, 3, 1], [0, 4, 3], [0, 5, 4], [0, 2, 5], [2, 1, 6], [1, 3, 6], [3, 4, 6], [4, 5, 6], [5, 2, 6]], &quot;color&quot;: &quot;#6666ff&quot;, &quot;opacity&quot;: 1.0}, {&quot;vertices&quot;: [{&quot;x&quot;: 0.8727207793864216, &quot;y&quot;: 0.0, &quot;z&quot;: -0.8727207793864215}, {&quot;x&quot;: 0.8592708091471424, &quot;y&quot;: 0.006180339887498949, &quot;z&quot;: -0.8861707496257006}, {&quot;x&quot;: 0.8727207793864216, &quot;y&quot;: 0.02, &quot;z&quot;: -0.8727207793864215}, {&quot;x&quot;: 0.8644082406308725, &quot;y&quot;: -0.016180339887498948, &quot;z&quot;: -0.8810333181419705}, {&quot;x&quot;: 0.8810333181419706, &quot;y&quot;: -0.01618033988749895, &quot;z&quot;: -0.8644082406308724}, {&quot;x&quot;: 0.8861707496257007, &quot;y&quot;: 0.006180339887498945, &quot;z&quot;: -0.8592708091471423}, {&quot;x&quot;: -0.013449970239279145, &quot;y&quot;: 0.006180339887498949, &quot;z&quot;: -0.013449970239279149}, {&quot;x&quot;: 0.0, &quot;y&quot;: 0.02, &quot;z&quot;: 0.0}, {&quot;x&quot;: -0.008312538755549069, &quot;y&quot;: -0.016180339887498948, &quot;z&quot;: -0.00831253875554907}, {&quot;x&quot;: 0.008312538755549067, &quot;y&quot;: -0.01618033988749895, &quot;z&quot;: 0.008312538755549069}, {&quot;x&quot;: 0.013449970239279145, &quot;y&quot;: 0.006180339887498945, &quot;z&quot;: 0.013449970239279149}, {&quot;x&quot;: 0.0, &quot;y&quot;: 0.0, &quot;z&quot;: 0.0}], &quot;faces&quot;: [[0, 1, 2], [0, 3, 1], [0, 4, 3], [0, 5, 4], [0, 2, 5], [2, 1, 6, 7], [1, 3, 8, 6], [3, 4, 9, 8], [4, 5, 10, 9], [5, 2, 7, 10], [7, 6, 11], [6, 8, 11], [8, 9, 11], [9, 10, 11], [10, 7, 11]], &quot;color&quot;: &quot;#6666ff&quot;, &quot;opacity&quot;: 1.0}, {&quot;vertices&quot;: [{&quot;x&quot;: 1.0, &quot;y&quot;: 0.0, &quot;z&quot;: -1.0}, {&quot;x&quot;: 0.8323708686685841, &quot;y&quot;: 0.018541019662496848, &quot;z&quot;: -0.9130706901042589}, {&quot;x&quot;: 0.8727207793864216, &quot;y&quot;: 0.06, &quot;z&quot;: -0.8727207793864215}, {&quot;x&quot;: 0.8477831631197743, &quot;y&quot;: -0.04854101966249684, &quot;z&quot;: -0.8976583956530687}, {&quot;x&quot;: 0.8976583956530687, &quot;y&quot;: -0.048541019662496854, &quot;z&quot;: -0.8477831631197743}, {&quot;x&quot;: 0.913070690104259, &quot;y&quot;: 0.018541019662496834, &quot;z&quot;: -0.832370868668584}, {&quot;x&quot;: 0.8727207793864216, &quot;y&quot;: 0.0, &quot;z&quot;: -0.8727207793864215}], &quot;faces&quot;: [[0, 1, 2], [0, 3, 1], [0, 4, 3], [0, 5, 4], [0, 2, 5], [2, 1, 6], [1, 3, 6], [3, 4, 6], [4, 5, 6], [5, 2, 6]], &quot;color&quot;: &quot;#6666ff&quot;, &quot;opacity&quot;: 1.0}, {&quot;vertices&quot;: [{&quot;x&quot;: -0.8727207793864216, &quot;y&quot;: 0.0, &quot;z&quot;: 0.8727207793864215}, {&quot;x&quot;: -0.8592708091471424, &quot;y&quot;: 0.006180339887498949, &quot;z&quot;: 0.8861707496257006}, {&quot;x&quot;: -0.8727207793864216, &quot;y&quot;: 0.02, &quot;z&quot;: 0.8727207793864215}, {&quot;x&quot;: -0.8644082406308725, &quot;y&quot;: -0.016180339887498948, &quot;z&quot;: 0.8810333181419705}, {&quot;x&quot;: -0.8810333181419706, &quot;y&quot;: -0.01618033988749895, &quot;z&quot;: 0.8644082406308724}, {&quot;x&quot;: -0.8861707496257007, &quot;y&quot;: 0.006180339887498945, &quot;z&quot;: 0.8592708091471423}, {&quot;x&quot;: 0.013449970239279145, &quot;y&quot;: 0.006180339887498949, &quot;z&quot;: 0.013449970239279149}, {&quot;x&quot;: 0.0, &quot;y&quot;: 0.02, &quot;z&quot;: 0.0}, {&quot;x&quot;: 0.008312538755549069, &quot;y&quot;: -0.016180339887498948, &quot;z&quot;: 0.00831253875554907}, {&quot;x&quot;: -0.008312538755549067, &quot;y&quot;: -0.01618033988749895, &quot;z&quot;: -0.008312538755549069}, {&quot;x&quot;: -0.013449970239279145, &quot;y&quot;: 0.006180339887498945, &quot;z&quot;: -0.013449970239279149}, {&quot;x&quot;: 0.0, &quot;y&quot;: 0.0, &quot;z&quot;: 0.0}], &quot;faces&quot;: [[0, 1, 2], [0, 3, 1], [0, 4, 3], [0, 5, 4], [0, 2, 5], [2, 1, 6, 7], [1, 3, 8, 6], [3, 4, 9, 8], [4, 5, 10, 9], [5, 2, 7, 10], [7, 6, 11], [6, 8, 11], [8, 9, 11], [9, 10, 11], [10, 7, 11]], &quot;color&quot;: &quot;#6666ff&quot;, &quot;opacity&quot;: 1.0}, {&quot;vertices&quot;: [{&quot;x&quot;: -1.0, &quot;y&quot;: 0.0, &quot;z&quot;: 1.0}, {&quot;x&quot;: -0.8323708686685841, &quot;y&quot;: 0.018541019662496848, &quot;z&quot;: 0.9130706901042589}, {&quot;x&quot;: -0.8727207793864216, &quot;y&quot;: 0.06, &quot;z&quot;: 0.8727207793864215}, {&quot;x&quot;: -0.8477831631197743, &quot;y&quot;: -0.04854101966249684, &quot;z&quot;: 0.8976583956530687}, {&quot;x&quot;: -0.8976583956530687, &quot;y&quot;: -0.048541019662496854, &quot;z&quot;: 0.8477831631197743}, {&quot;x&quot;: -0.913070690104259, &quot;y&quot;: 0.018541019662496834, &quot;z&quot;: 0.832370868668584}, {&quot;x&quot;: -0.8727207793864216, &quot;y&quot;: 0.0, &quot;z&quot;: 0.8727207793864215}], &quot;faces&quot;: [[0, 1, 2], [0, 3, 1], [0, 4, 3], [0, 5, 4], [0, 2, 5], [2, 1, 6], [1, 3, 6], [3, 4, 6], [4, 5, 6], [5, 2, 6]], &quot;color&quot;: &quot;#6666ff&quot;, &quot;opacity&quot;: 1.0}, {&quot;vertices&quot;: [{&quot;x&quot;: 0.926515307716504, &quot;y&quot;: 0.926515307716504, &quot;z&quot;: -1.8530306154330096}, {&quot;x&quot;: 0.9226472458039088, &quot;y&quot;: 0.9098064553655046, &quot;z&quot;: -1.863319072564807}, {&quot;x&quot;: 0.9083503419072267, &quot;y&quot;: 0.9283503419072268, &quot;z&quot;: -1.861195581242287}, {&quot;x&quot;: 0.9422896797932084, &quot;y&quot;: 0.9143536348598601, &quot;z&quot;: -1.8512242658229794}, {&quot;x&quot;: 0.94013246772369, &quot;y&quot;: 0.9357078328820404, &quot;z&quot;: -1.8416257728466485}, {&quot;x&quot;: 0.9191568033544862, &quot;y&quot;: 0.9443582735678883, &quot;z&quot;: -1.8477883846883265}, {&quot;x&quot;: -0.003868061912595283, &quot;y&quot;: -0.016708852350999403, &quot;z&quot;: -0.010288457131797334}, {&quot;x&quot;: -0.01816496580927726, &quot;y&quot;: 0.0018350341907227353, &quot;z&quot;: -0.008164965809277256}, {&quot;x&quot;: 0.01577437207670445, &quot;y&quot;: -0.012161672856643956, &quot;z&quot;: 0.0018063496100302456}, {&quot;x&quot;: 0.013617160007185899, &quot;y&quot;: 0.00919252516553641, &quot;z&quot;: 0.011404842586361146}, {&quot;x&quot;: -0.007358504362017801, &quot;y&quot;: 0.017842965851384212, &quot;z&quot;: 0.005242230744683201}, {&quot;x&quot;: 0.0, &quot;y&quot;: 0.0, &quot;z&quot;: 0.0}], &quot;faces&quot;: [[0, 1, 2], [0, 3, 1], [0, 4, 3], [0, 5, 4], [0, 2, 5], [2, 1, 6, 7], [1, 3, 8, 6], [3, 4, 9, 8], [4, 5, 10, 9], [5, 2, 7, 10], [7, 6, 11], [6, 8, 11], [8, 9, 11], [9, 10, 11], [10, 7, 11]], &quot;color&quot;: &quot;#6666ff&quot;, &quot;opacity&quot;: 1.0}, {&quot;vertices&quot;: [{&quot;x&quot;: 0.9999999999999993, &quot;y&quot;: 0.9999999999999993, &quot;z&quot;: -2.0000000000000004}, {&quot;x&quot;: 0.9149111219787182, &quot;y&quot;: 0.8763887506635059, &quot;z&quot;: -1.8838959868284015}, {&quot;x&quot;: 0.8720204102886723, &quot;y&quot;: 0.9320204102886722, &quot;z&quot;: -1.8775255128608415}, {&quot;x&quot;: 0.9738384239466173, &quot;y&quot;: 0.8900302891465721, &quot;z&quot;: -1.847611566602919}, {&quot;x&quot;: 0.9673667877380617, &quot;y&quot;: 0.9540928832131133, &quot;z&quot;: -1.818816087673926}, {&quot;x&quot;: 0.9044397946304507, &quot;y&quot;: 0.9800442052706566, &quot;z&quot;: -1.83730392319896}, {&quot;x&quot;: 0.926515307716504, &quot;y&quot;: 0.926515307716504, &quot;z&quot;: -1.8530306154330096}], &quot;faces&quot;: [[0, 1, 2], [0, 3, 1], [0, 4, 3], [0, 5, 4], [0, 2, 5], [2, 1, 6], [1, 3, 6], [3, 4, 6], [4, 5, 6], [5, 2, 6]], &quot;color&quot;: &quot;#6666ff&quot;, &quot;opacity&quot;: 1.0}, {&quot;vertices&quot;: [{&quot;x&quot;: -0.9265153077165041, &quot;y&quot;: -0.9265153077165041, &quot;z&quot;: 1.8530306154330092}, {&quot;x&quot;: -0.9098064553655048, &quot;y&quot;: -0.9226472458039089, &quot;z&quot;: 1.8633190725648066}, {&quot;x&quot;: -0.9283503419072269, &quot;y&quot;: -0.9083503419072269, &quot;z&quot;: 1.8611955812422865}, {&quot;x&quot;: -0.9143536348598602, &quot;y&quot;: -0.9422896797932085, &quot;z&quot;: 1.851224265822979}, {&quot;x&quot;: -0.9357078328820405, &quot;y&quot;: -0.9401324677236901, &quot;z&quot;: 1.841625772846648}, {&quot;x&quot;: -0.9443582735678884, &quot;y&quot;: -0.9191568033544864, &quot;z&quot;: 1.847788384688326}, {&quot;x&quot;: 0.016708852350999403, &quot;y&quot;: 0.0038680619125952796, &quot;z&quot;: 0.010288457131797336}, {&quot;x&quot;: -0.0018350341907227383, &quot;y&quot;: 0.01816496580927726, &quot;z&quot;: 0.008164965809277258}, {&quot;x&quot;: 0.012161672856643959, &quot;y&quot;: -0.015774372076704454, &quot;z&quot;: -0.0018063496100302456}, {&quot;x&quot;: -0.009192525165536407, &quot;y&quot;: -0.013617160007185897, &quot;z&quot;: -0.011404842586361147}, {&quot;x&quot;: -0.017842965851384212, &quot;y&quot;: 0.007358504362017805, &quot;z&quot;: -0.005242230744683201}, {&quot;x&quot;: 0.0, &quot;y&quot;: 0.0, &quot;z&quot;: 0.0}], &quot;faces&quot;: [[0, 1, 2], [0, 3, 1], [0, 4, 3], [0, 5, 4], [0, 2, 5], [2, 1, 6, 7], [1, 3, 8, 6], [3, 4, 9, 8], [4, 5, 10, 9], [5, 2, 7, 10], [7, 6, 11], [6, 8, 11], [8, 9, 11], [9, 10, 11], [10, 7, 11]], &quot;color&quot;: &quot;#6666ff&quot;, &quot;opacity&quot;: 1.0}, {&quot;vertices&quot;: [{&quot;x&quot;: -0.9999999999999994, &quot;y&quot;: -0.9999999999999994, &quot;z&quot;: 2.0}, {&quot;x&quot;: -0.876388750663506, &quot;y&quot;: -0.9149111219787183, &quot;z&quot;: 1.883895986828401}, {&quot;x&quot;: -0.9320204102886723, &quot;y&quot;: -0.8720204102886724, &quot;z&quot;: 1.877525512860841}, {&quot;x&quot;: -0.8900302891465722, &quot;y&quot;: -0.9738384239466175, &quot;z&quot;: 1.8476115666029185}, {&quot;x&quot;: -0.9540928832131134, &quot;y&quot;: -0.9673667877380618, &quot;z&quot;: 1.8188160876739257}, {&quot;x&quot;: -0.9800442052706568, &quot;y&quot;: -0.9044397946304508, &quot;z&quot;: 1.8373039231989596}, {&quot;x&quot;: -0.9265153077165041, &quot;y&quot;: -0.9265153077165041, &quot;z&quot;: 1.8530306154330092}], &quot;faces&quot;: [[0, 1, 2], [0, 3, 1], [0, 4, 3], [0, 5, 4], [0, 2, 5], [2, 1, 6], [1, 3, 6], [3, 4, 6], [4, 5, 6], [5, 2, 6]], &quot;color&quot;: &quot;#6666ff&quot;, &quot;opacity&quot;: 1.0}, {&quot;vertices&quot;: [{&quot;x&quot;: 1.8530306154330087, &quot;y&quot;: -0.9265153077165044, &quot;z&quot;: -0.9265153077165046}, {&quot;x&quot;: 1.8541039475800196, &quot;y&quot;: -0.9113610687395592, &quot;z&quot;: -0.939522882399428}, {&quot;x&quot;: 1.8642966017567197, &quot;y&quot;: -0.9121483008783599, &quot;z&quot;: -0.9183503419072273}, {&quot;x&quot;: 1.8424279848573684, &quot;y&quot;: -0.9315164797932585, &quot;z&quot;: -0.9427193967910312}, {&quot;x&quot;: 1.8454044972200934, &quot;y&quot;: -0.9447604410204703, &quot;z&quot;: -0.9235224108383694}, {&quot;x&quot;: 1.8589200457508428, &quot;y&quot;: -0.932790248150874, &quot;z&quot;: -0.908461506646467}, {&quot;x&quot;: 0.001073332147010804, &quot;y&quot;: 0.01515423897694508, &quot;z&quot;: -0.013007574682923472}, {&quot;x&quot;: 0.011265986323710904, &quot;y&quot;: 0.014367006838144545, &quot;z&quot;: 0.00816496580927726}, {&quot;x&quot;: -0.010602630575640329, &quot;y&quot;: -0.005001172076754048, &quot;z&quot;: -0.0162040890745266}, {&quot;x&quot;: -0.0076261182129153905, &quot;y&quot;: -0.018245133303965985, &quot;z&quot;: 0.0029928968781352}, {&quot;x&quot;: 0.005889430317834008, &quot;y&quot;: -0.006274940434369595, &quot;z&quot;: 0.01805380107003761}, {&quot;x&quot;: 0.0, &quot;y&quot;: 0.0, &quot;z&quot;: 0.0}], &quot;faces&quot;: [[0, 1, 2], [0, 3, 1], [0, 4, 3], [0, 5, 4], [0, 2, 5], [2, 1, 6, 7], [1, 3, 8, 6], [3, 4, 9, 8], [4, 5, 10, 9], [5, 2, 7, 10], [7, 6, 11], [6, 8, 11], [8, 9, 11], [9, 10, 11], [10, 7, 11]], &quot;color&quot;: &quot;#6666ff&quot;, &quot;opacity&quot;: 1.0}, {&quot;vertices&quot;: [{&quot;x&quot;: 1.9999999999999993, &quot;y&quot;: -0.9999999999999997, &quot;z&quot;: -1.0}, {&quot;x&quot;: 1.8562506118740412, &quot;y&quot;: -0.8810525907856691, &quot;z&quot;: -0.965538031765275}, {&quot;x&quot;: 1.8868285744041415, &quot;y&quot;: -0.8834142872020707, &quot;z&quot;: -0.9020204102886729}, {&quot;x&quot;: 1.8212227237060878, &quot;y&quot;: -0.9415188239467666, &quot;z&quot;: -0.9751275749400844}, {&quot;x&quot;: 1.8301522607942626, &quot;y&quot;: -0.9812507076284023, &quot;z&quot;: -0.917536617082099}, {&quot;x&quot;: 1.8706989063865107, &quot;y&quot;: -0.9453401290196132, &quot;z&quot;: -0.8723539045063917}, {&quot;x&quot;: 1.8530306154330087, &quot;y&quot;: -0.9265153077165044, &quot;z&quot;: -0.9265153077165046}], &quot;faces&quot;: [[0, 1, 2], [0, 3, 1], [0, 4, 3], [0, 5, 4], [0, 2, 5], [2, 1, 6], [1, 3, 6], [3, 4, 6], [4, 5, 6], [5, 2, 6]], &quot;color&quot;: &quot;#6666ff&quot;, &quot;opacity&quot;: 1.0}, {&quot;vertices&quot;: [{&quot;x&quot;: -1.8530306154330087, &quot;y&quot;: 0.9265153077165044, &quot;z&quot;: 0.9265153077165049}, {&quot;x&quot;: -1.8415512235396592, &quot;y&quot;: 0.93646651682028, &quot;z&quot;: 0.9395228823994284}, {&quot;x&quot;: -1.8482966017567197, &quot;y&quot;: 0.9441483008783598, &quot;z&quot;: 0.9183503419072276}, {&quot;x&quot;: -1.8506699747490278, &quot;y&quot;: 0.9150325000099396, &quot;z&quot;: 0.9427193967910316}, {&quot;x&quot;: -1.8630510511484324, &quot;y&quot;: 0.9094673331637925, &quot;z&quot;: 0.9235224108383697}, {&quot;x&quot;: -1.8615842259712048, &quot;y&quot;: 0.9274618877101498, &quot;z&quot;: 0.9084615066464673}, {&quot;x&quot;: 0.011479391893349584, &quot;y&quot;: 0.009951209103775694, &quot;z&quot;: 0.013007574682923472}, {&quot;x&quot;: 0.0047340136762890955, &quot;y&quot;: 0.017632993161855452, &quot;z&quot;: -0.00816496580927726}, {&quot;x&quot;: 0.0023606406839809576, &quot;y&quot;: -0.011482807706564695, &quot;z&quot;: 0.0162040890745266}, {&quot;x&quot;: -0.010020435715423555, &quot;y&quot;: -0.017047974552711904, &quot;z&quot;: -0.0029928968781352}, {&quot;x&quot;: -0.008553610538196081, &quot;y&quot;: 0.0009465799936454493, &quot;z&quot;: -0.01805380107003761}, {&quot;x&quot;: 0.0, &quot;y&quot;: 0.0, &quot;z&quot;: 0.0}], &quot;faces&quot;: [[0, 1, 2], [0, 3, 1], [0, 4, 3], [0, 5, 4], [0, 2, 5], [2, 1, 6, 7], [1, 3, 8, 6], [3, 4, 9, 8], [4, 5, 10, 9], [5, 2, 7, 10], [7, 6, 11], [6, 8, 11], [8, 9, 11], [9, 10, 11], [10, 7, 11]], &quot;color&quot;: &quot;#6666ff&quot;, &quot;opacity&quot;: 1.0}, {&quot;vertices&quot;: [{&quot;x&quot;: -1.9999999999999993, &quot;y&quot;: 0.9999999999999997, &quot;z&quot;: 1.0000000000000002}, {&quot;x&quot;: -1.81859243975296, &quot;y&quot;: 0.9563689350278315, &quot;z&quot;: 0.9655380317652753}, {&quot;x&quot;: -1.8388285744041415, &quot;y&quot;: 0.9794142872020707, &quot;z&quot;: 0.9020204102886732}, {&quot;x&quot;: -1.8459486933810658, &quot;y&quot;: 0.8920668845968103, &quot;z&quot;: 0.9751275749400847}, {&quot;x&quot;: -1.8830919225792795, &quot;y&quot;: 0.8753713840583687, &quot;z&quot;: 0.9175366170820993}, {&quot;x&quot;: -1.878691447047597, &quot;y&quot;: 0.9293550476974407, &quot;z&quot;: 0.872353904506392}, {&quot;x&quot;: -1.8530306154330087, &quot;y&quot;: 0.9265153077165044, &quot;z&quot;: 0.9265153077165049}], &quot;faces&quot;: [[0, 1, 2], [0, 3, 1], [0, 4, 3], [0, 5, 4], [0, 2, 5], [2, 1, 6], [1, 3, 6], [3, 4, 6], [4, 5, 6], [5, 2, 6]], &quot;color&quot;: &quot;#6666ff&quot;, &quot;opacity&quot;: 1.0}];\n",
       "    for ( var i=0 ; i &lt; surfaces.length ; i++ ) addSurface( surfaces[i] );\n",
       "\n",
       "    function addSurface( json ) {\n",
       "\n",
       "        var useFaceColors = &#x27;faceColors&#x27; in json ? true : false;\n",
       "\n",
       "        var geometry = new THREE.Geometry();\n",
       "        for ( var i=0 ; i &lt; json.vertices.length ; i++ ) {\n",
       "            var v = json.vertices[i];\n",
       "            geometry.vertices.push( new THREE.Vector3( a[0]*v.x, a[1]*v.y, a[2]*v.z ) );\n",
       "        }\n",
       "        for ( var i=0 ; i &lt; json.faces.length ; i++ ) {\n",
       "            var f = json.faces[i];\n",
       "            for ( var j=0 ; j &lt; f.length - 2 ; j++ ) {\n",
       "                var face = new THREE.Face3( f[0], f[j+1], f[j+2] );\n",
       "                if ( useFaceColors ) face.color.set( json.faceColors[i] );\n",
       "                geometry.faces.push( face );\n",
       "            }\n",
       "        }\n",
       "        geometry.computeVertexNormals();\n",
       "\n",
       "        var side = json.singleSide ? THREE.FrontSide : THREE.DoubleSide;\n",
       "        var transparent = json.opacity &lt; 1 ? true : false;\n",
       "        var depthWrite = &#x27;depthWrite&#x27; in json ? json.depthWrite : !transparent;\n",
       "        var flatShading = json.useFlatShading ? json.useFlatShading : false;\n",
       "\n",
       "        var material = new THREE.MeshPhongMaterial( { side: side,\n",
       "                                     color: useFaceColors ? &#x27;white&#x27; : json.color,\n",
       "                                     vertexColors: useFaceColors ? THREE.FaceColors : THREE.NoColors,\n",
       "                                     transparent: transparent, opacity: json.opacity,\n",
       "                                     shininess: 20, flatShading: flatShading,\n",
       "                                     depthWrite: depthWrite } );\n",
       "\n",
       "        var c = new THREE.Vector3();\n",
       "        geometry.computeBoundingBox();\n",
       "        geometry.boundingBox.getCenter( c );\n",
       "        geometry.translate( -c.x, -c.y, -c.z );\n",
       "\n",
       "        var mesh = new THREE.Mesh( geometry, material );\n",
       "        mesh.position.set( c.x, c.y, c.z );\n",
       "        if ( transparent &amp;&amp; json.renderOrder ) mesh.renderOrder = json.renderOrder;\n",
       "        mesh.userData = json;\n",
       "        scene.add( mesh );\n",
       "\n",
       "        if ( json.showMeshGrid ) addSurfaceMeshGrid( json );\n",
       "\n",
       "    }\n",
       "\n",
       "    function addSurfaceMeshGrid( json ) {\n",
       "\n",
       "        var geometry = new THREE.Geometry();\n",
       "\n",
       "        for ( var i=0 ; i &lt; json.faces.length ; i++ ) {\n",
       "            var f = json.faces[i];\n",
       "            for ( var j=0 ; j &lt; f.length ; j++ ) {\n",
       "                var k = j === f.length-1 ? 0 : j+1;\n",
       "                var v1 = json.vertices[f[j]];\n",
       "                var v2 = json.vertices[f[k]];\n",
       "                // vertices in opposite directions on neighboring faces\n",
       "                var nudge = f[j] &lt; f[k] ? .0005*zRange : -.0005*zRange;\n",
       "                geometry.vertices.push( new THREE.Vector3( a[0]*v1.x, a[1]*v1.y, a[2]*(v1.z+nudge) ) );\n",
       "                geometry.vertices.push( new THREE.Vector3( a[0]*v2.x, a[1]*v2.y, a[2]*(v2.z+nudge) ) );\n",
       "            }\n",
       "        }\n",
       "\n",
       "        var c = new THREE.Vector3();\n",
       "        geometry.computeBoundingBox();\n",
       "        geometry.boundingBox.getCenter( c );\n",
       "        geometry.translate( -c.x, -c.y, -c.z );\n",
       "\n",
       "        var gridColor = options.theme === &#x27;dark&#x27; ? &#x27;white&#x27; : &#x27;black&#x27;;\n",
       "        var linewidth = json.linewidth || 1;\n",
       "        var materialOptions = { color: gridColor, linewidth: linewidth };\n",
       "\n",
       "        var mesh;\n",
       "        if ( linewidth &gt; 1 &amp;&amp; window.createFatLineSegments ) {\n",
       "            mesh = createFatLineSegments( geometry, materialOptions );\n",
       "        } else {\n",
       "            var material = new THREE.LineBasicMaterial( materialOptions );\n",
       "            mesh = new THREE.LineSegments( geometry, material );\n",
       "        }\n",
       "\n",
       "        mesh.position.set( c.x, c.y, c.z );\n",
       "        mesh.userData = json;\n",
       "        scene.add( mesh );\n",
       "\n",
       "    }\n",
       "\n",
       "    function render() {\n",
       "\n",
       "        if ( window.updateAnimation ) animate = updateAnimation();\n",
       "        if ( animate ) requestAnimationFrame( render );\n",
       "\n",
       "        renderer.render( scene, camera );\n",
       "\n",
       "    }\n",
       "\n",
       "    render();\n",
       "    controls.update();\n",
       "    if ( !animate ) render();\n",
       "\n",
       "\n",
       "    // menu functions\n",
       "\n",
       "    function toggleMenu() {\n",
       "\n",
       "        var m = document.getElementById( &#x27;menu-content&#x27; );\n",
       "        if ( m.style.display === &#x27;block&#x27; ) m.style.display = &#x27;none&#x27;\n",
       "        else m.style.display = &#x27;block&#x27;;\n",
       "\n",
       "    }\n",
       "\n",
       "\n",
       "    function saveAsPNG() {\n",
       "\n",
       "        var a = document.body.appendChild( document.createElement( &#x27;a&#x27; ) );\n",
       "        a.href = renderer.domElement.toDataURL( &#x27;image/png&#x27; );\n",
       "        a.download = &#x27;screenshot&#x27;;\n",
       "        a.click();\n",
       "\n",
       "    }\n",
       "\n",
       "    function saveAsHTML() {\n",
       "\n",
       "        toggleMenu(); // otherwise visible in output\n",
       "        event.stopPropagation();\n",
       "\n",
       "        var blob = new Blob( [ &#x27;&lt;!DOCTYPE html&gt;\\n&#x27; + document.documentElement.outerHTML ] );\n",
       "        var a = document.body.appendChild( document.createElement( &#x27;a&#x27; ) );\n",
       "        a.href = window.URL.createObjectURL( blob );\n",
       "        a.download = suggestFilename();\n",
       "        a.click();\n",
       "\n",
       "        function suggestFilename() {\n",
       "            if ( !document.title ) {\n",
       "                return &#x27;graphic.html&#x27;;\n",
       "            } else if ( /\\.html?$/i.test( document.title ) ) {\n",
       "                return document.title; // already ends in .htm or .html\n",
       "            } else {\n",
       "                return document.title + &#x27;.html&#x27;;\n",
       "            }\n",
       "        }\n",
       "\n",
       "    }\n",
       "\n",
       "    function getViewpoint() {\n",
       "\n",
       "        function roundTo( x, n ) { return +x.toFixed(n); }\n",
       "\n",
       "        var v = camera.quaternion.inverse();\n",
       "        var r = Math.sqrt( v.x*v.x + v.y*v.y + v.z*v.z );\n",
       "        var axis = [ roundTo( v.x / r, 4 ), roundTo( v.y / r, 4 ), roundTo( v.z / r, 4 ) ];\n",
       "        var angle = roundTo( 2 * Math.atan2( r, v.w ) * 180 / Math.PI, 2 );\n",
       "\n",
       "        var textArea = document.createElement( &#x27;textarea&#x27; );\n",
       "        textArea.textContent = JSON.stringify( axis ) + &#x27;,&#x27; + angle;\n",
       "        textArea.style.csstext = &#x27;position: absolute; top: -100%&#x27;;\n",
       "        document.body.append( textArea );\n",
       "        textArea.select();\n",
       "        document.execCommand( &#x27;copy&#x27; );\n",
       "\n",
       "        var m = document.getElementById( &#x27;menu-message&#x27; );\n",
       "        m.innerHTML = &#x27;Viewpoint copied to clipboard&#x27;;\n",
       "        m.style.display = &#x27;block&#x27;;\n",
       "        setTimeout( function() { m.style.display = &#x27;none&#x27;; }, 2000 );\n",
       "\n",
       "    }\n",
       "\n",
       "    function getCamera() {\n",
       "\n",
       "        function roundTo( x, n ) { return +x.toFixed(n); }\n",
       "\n",
       "        var pos = camera.position;\n",
       "        var pos_r = [ roundTo( pos.x, 4 ), roundTo( pos.y, 4 ), roundTo( pos.z, 4 ) ];\n",
       "   //     var up = camera.up; // up is always (0,0,1)\n",
       "        var textArea = document.createElement(&#x27;textarea&#x27;);\n",
       "        var cam_position = JSON.stringify(pos_r);\n",
       "        textArea.textContent = &#x27;,camera_position=&#x27; + cam_position;\n",
       "        textArea.style.csstext = &#x27;position: absolute; top: -100%&#x27;;\n",
       "        document.body.append( textArea );\n",
       "        textArea.select();\n",
       "        document.execCommand( &#x27;copy&#x27; );\n",
       "\n",
       "        var m = document.getElementById( &#x27;menu-message&#x27; );\n",
       "        m.innerHTML = &#x27;Camera position &#x27;+ cam_position+&#x27; copied to clipboard&#x27;;\n",
       "        m.style.display = &#x27;block&#x27;;\n",
       "        setTimeout( function() { m.style.display = &#x27;none&#x27;; }, 2000 );\n",
       "\n",
       "    }\n",
       "\n",
       "&lt;/script&gt;\n",
       "\n",
       "&lt;div id=&quot;menu-container&quot; onclick=&quot;toggleMenu()&quot;&gt;&amp;#x24d8;\n",
       "&lt;div id=&quot;menu-message&quot;&gt;&lt;/div&gt;\n",
       "&lt;div id=&quot;menu-content&quot;&gt;\n",
       "&lt;div onclick=&quot;saveAsPNG()&quot;&gt;Save as PNG&lt;/div&gt;\n",
       "&lt;div onclick=&quot;saveAsHTML()&quot;&gt;Save as HTML&lt;/div&gt;\n",
       "&lt;div onclick=&quot;getCamera()&quot;&gt;Get camera&lt;/div&gt;\n",
       "&lt;div onclick=&quot;getViewpoint()&quot;&gt;Get viewpoint&lt;/div&gt;\n",
       "&lt;div&gt;Close Menu&lt;/div&gt;\n",
       "&lt;/div&gt;&lt;/div&gt;\n",
       "\n",
       "\n",
       "&lt;/body&gt;\n",
       "&lt;/html&gt;\n",
       "\"\n",
       "        width=\"100%\"\n",
       "        height=\"400\"\n",
       "        style=\"border: 0;\">\n",
       "</iframe>\n"
      ],
      "text/plain": [
       "Graphics3d Object"
      ]
     },
     "metadata": {},
     "output_type": "display_data"
    }
   ],
   "source": [
    "p=sum([plot(vector(v),thickness=2)+plot(-vector(v),thickness=2) for v in posrootsG2])\n",
    "p.show(viewpoint=[[-0.1875,-0.4511,-0.8726],140.14])"
   ]
  },
  {
   "cell_type": "markdown",
   "id": "5ad34858-9e99-4515-8ff1-07695a2fe95c",
   "metadata": {},
   "source": [
    "* Reducible root systems are also no problem."
   ]
  },
  {
   "cell_type": "code",
   "execution_count": 71,
   "id": "cdecb6c6-65f6-4864-8f4b-453ac7fba7bf",
   "metadata": {},
   "outputs": [
    {
     "data": {
      "text/plain": [
       "O\n",
       "1   \n",
       "O\n",
       "2   \n",
       "O=>=O\n",
       "3   4   \n",
       "A1xA1xB2"
      ]
     },
     "execution_count": 71,
     "metadata": {},
     "output_type": "execute_result"
    }
   ],
   "source": [
    "R=RootSystem(\"A1xA1xB2\")\n",
    "R.dynkin_diagram()"
   ]
  },
  {
   "cell_type": "code",
   "execution_count": 72,
   "id": "cf9f17fa-6a4b-4ea0-b4fe-086db0aad803",
   "metadata": {},
   "outputs": [
    {
     "data": {
      "text/plain": [
       "Finite family {1: (1, -1, 0, 0, 0, 0), 2: (0, 0, 1, -1, 0, 0), 3: (0, 0, 0, 0, 1, -1), 4: (0, 0, 0, 0, 0, 1)}"
      ]
     },
     "execution_count": 72,
     "metadata": {},
     "output_type": "execute_result"
    }
   ],
   "source": [
    "R.ambient_space().simple_roots()"
   ]
  },
  {
   "cell_type": "markdown",
   "id": "48c01ef3-6300-4f7c-b15e-472751949d41",
   "metadata": {},
   "source": [
    "### 2) Representations and their weights\n",
    "\n",
    "SageMath can calculate with the **character ring** of $G$, which is generated by its finite-dimensional irreducible representations. These are labeled by their highest weights.\n",
    "\n",
    "The option $\\texttt{style=\"coroots\"}$ ensures that weights are expressed in the basis of fundamental weights."
   ]
  },
  {
   "cell_type": "code",
   "execution_count": 73,
   "id": "a82a7bc5-61d0-4385-80f5-6a74f7a09997",
   "metadata": {},
   "outputs": [
    {
     "data": {
      "text/plain": [
       "The Weyl Character Ring of Type B3 with Integer Ring coefficients"
      ]
     },
     "execution_count": 73,
     "metadata": {},
     "output_type": "execute_result"
    }
   ],
   "source": [
    "G=WeylCharacterRing(\"B3\",style=\"coroots\"); G"
   ]
  },
  {
   "cell_type": "markdown",
   "id": "d0276b13-fce4-4604-ae95-f5a78a97dc35",
   "metadata": {},
   "source": [
    "The standard representation of $\\mathfrak{so}(7)$ is $\\mathbb{C}^7$ and corresponds to the first fundamental weight."
   ]
  },
  {
   "cell_type": "code",
   "execution_count": 76,
   "id": "dee2432b-a111-48d3-8c2e-a50a8f642f44",
   "metadata": {},
   "outputs": [
    {
     "data": {
      "text/plain": [
       "21"
      ]
     },
     "execution_count": 76,
     "metadata": {},
     "output_type": "execute_result"
    }
   ],
   "source": [
    "G(0,1,0).degree()"
   ]
  },
  {
   "cell_type": "code",
   "execution_count": 77,
   "id": "37b2aa3e-13be-45f2-a07f-9649c16900f1",
   "metadata": {},
   "outputs": [
    {
     "data": {
      "text/plain": [
       "(1, 1, 0)"
      ]
     },
     "execution_count": 77,
     "metadata": {},
     "output_type": "execute_result"
    }
   ],
   "source": [
    "G(0,1,0).highest_weight()"
   ]
  },
  {
   "cell_type": "code",
   "execution_count": 78,
   "id": "84f41b9e-6bda-4b9b-a639-1ae2bcf0955a",
   "metadata": {},
   "outputs": [
    {
     "data": {
      "text/plain": [
       "{(1, 0, 0): 1,\n",
       " (0, 1, 0): 1,\n",
       " (0, 0, 1): 1,\n",
       " (0, 0, 0): 1,\n",
       " (0, 0, -1): 1,\n",
       " (0, -1, 0): 1,\n",
       " (-1, 0, 0): 1}"
      ]
     },
     "execution_count": 78,
     "metadata": {},
     "output_type": "execute_result"
    }
   ],
   "source": [
    "G(1,0,0).weight_multiplicities()"
   ]
  },
  {
   "cell_type": "markdown",
   "id": "ed3021c4-bff3-451f-97fc-d62d7536efa1",
   "metadata": {},
   "source": [
    "Here is the adjoint representation of $\\mathfrak{so}(7)$."
   ]
  },
  {
   "cell_type": "code",
   "execution_count": 79,
   "id": "7d0db5c6-1ed8-44f2-91e2-8da558efda7b",
   "metadata": {},
   "outputs": [
    {
     "data": {
      "text/plain": [
       "B3(0,1,0)"
      ]
     },
     "execution_count": 79,
     "metadata": {},
     "output_type": "execute_result"
    }
   ],
   "source": [
    "G.adjoint_representation()"
   ]
  },
  {
   "cell_type": "markdown",
   "id": "12148e24-a77e-4628-b412-930fc980e735",
   "metadata": {},
   "source": [
    "The product in the character ring corresponds precisely to the tensor product, and SageMath automatically decomposes it into irreducible pieces. Here we see $\\mathbb{C}^7\\otimes\\mathbb{C}^7$, and $\\mathbb{C}^7\\otimes\\mathbb{C}^7\\otimes\\mathbb{C}^7$."
   ]
  },
  {
   "cell_type": "code",
   "execution_count": 80,
   "id": "5cc9b17a-5ec7-4d07-830c-2d2959fb8284",
   "metadata": {},
   "outputs": [
    {
     "data": {
      "text/plain": [
       "B3(0,0,0) + B3(0,1,0) + B3(2,0,0)"
      ]
     },
     "execution_count": 80,
     "metadata": {},
     "output_type": "execute_result"
    }
   ],
   "source": [
    "G(1,0,0)*G(1,0,0)"
   ]
  },
  {
   "cell_type": "code",
   "execution_count": 81,
   "id": "b6d991f5-91f0-4b29-aefe-e6143e888056",
   "metadata": {},
   "outputs": [
    {
     "data": {
      "text/plain": [
       "3*B3(1,0,0) + B3(0,0,2) + 2*B3(1,1,0) + B3(3,0,0)"
      ]
     },
     "execution_count": 81,
     "metadata": {},
     "output_type": "execute_result"
    }
   ],
   "source": [
    "G(1,0,0)^3"
   ]
  },
  {
   "cell_type": "markdown",
   "id": "2f5c3253-c2cf-4cc9-a48e-3ea39ff1e7c9",
   "metadata": {},
   "source": [
    "Of course there are also symmetric powers and exterior powers."
   ]
  },
  {
   "cell_type": "code",
   "execution_count": 82,
   "id": "fb30fcd9-232e-4d99-b232-b25ca1be154c",
   "metadata": {},
   "outputs": [
    {
     "data": {
      "text/plain": [
       "B3(0,0,0) + B3(2,0,0)"
      ]
     },
     "execution_count": 82,
     "metadata": {},
     "output_type": "execute_result"
    }
   ],
   "source": [
    "G(1,0,0).symmetric_power(2)"
   ]
  },
  {
   "cell_type": "code",
   "execution_count": 84,
   "id": "3f35a4bd-d0c8-426d-801d-d56a6322ebe8",
   "metadata": {},
   "outputs": [
    {
     "data": {
      "text/plain": [
       "0"
      ]
     },
     "execution_count": 84,
     "metadata": {},
     "output_type": "execute_result"
    }
   ],
   "source": [
    "G(1,0,0).exterior_power(8)"
   ]
  },
  {
   "cell_type": "markdown",
   "id": "648608cd-db88-499a-a902-8e14dea1dc0c",
   "metadata": {},
   "source": [
    "We can count the multiplicity $\\dim\\mathrm{Hom}_G(V,W)$ of an irreducible representation $V$ in a representation $W$.\n",
    "\n",
    "The multiplicity of $\\Lambda^2\\mathbb{C}^7$ in $\\mathbb{C}^7\\otimes\\mathbb{C}^7$ is 1:"
   ]
  },
  {
   "cell_type": "code",
   "execution_count": 85,
   "id": "70b7f6e6-99e3-47a8-a3f8-cf76384655b9",
   "metadata": {},
   "outputs": [
    {
     "data": {
      "text/plain": [
       "1"
      ]
     },
     "execution_count": 85,
     "metadata": {},
     "output_type": "execute_result"
    }
   ],
   "source": [
    "rep=G(1,0,0)*G(1,0,0)\n",
    "rep.multiplicity(G(0,1,0))"
   ]
  },
  {
   "cell_type": "markdown",
   "id": "5ef920a4-358f-4c8a-88ce-3b0c7ad2f26c",
   "metadata": {},
   "source": [
    "SageMath also support the **Weyl group** of $G$, acting as a matrix group on the ambient space. But we will not do anything with it."
   ]
  },
  {
   "cell_type": "code",
   "execution_count": 88,
   "id": "6f202081-dd1b-4ea3-8619-10c39cee941f",
   "metadata": {},
   "outputs": [
    {
     "data": {
      "text/plain": [
       "Weyl Group of type ['B', 3] (as a matrix group acting on the ambient space)"
      ]
     },
     "execution_count": 88,
     "metadata": {},
     "output_type": "execute_result"
    }
   ],
   "source": [
    "W=G.space().weyl_group(); W"
   ]
  },
  {
   "cell_type": "code",
   "execution_count": 87,
   "id": "5e481484-7fce-442b-a03c-81ebf701fe5b",
   "metadata": {},
   "outputs": [
    {
     "data": {
      "text/plain": [
       "(\n",
       "[0 1 0]  [1 0 0]  [ 1  0  0]\n",
       "[1 0 0]  [0 0 1]  [ 0  1  0]\n",
       "[0 0 1], [0 1 0], [ 0  0 -1]\n",
       ")"
      ]
     },
     "execution_count": 87,
     "metadata": {},
     "output_type": "execute_result"
    }
   ],
   "source": [
    "W.gens()"
   ]
  },
  {
   "cell_type": "markdown",
   "id": "fedf3d98-5a33-4fcc-9197-853436328943",
   "metadata": {},
   "source": [
    "Let us calculate the dimensions of the spinor representations for the odd spin groups $B_n$."
   ]
  },
  {
   "cell_type": "code",
   "execution_count": 89,
   "id": "45ba3455-3dc6-40e7-84ec-2f388691cfca",
   "metadata": {},
   "outputs": [
    {
     "name": "stdout",
     "output_type": "stream",
     "text": [
      "Spin(3): dim(spinor module) = 2\n",
      "Spin(5): dim(spinor module) = 4\n",
      "Spin(7): dim(spinor module) = 8\n",
      "Spin(9): dim(spinor module) = 16\n",
      "Spin(11): dim(spinor module) = 32\n",
      "Spin(13): dim(spinor module) = 64\n",
      "Spin(15): dim(spinor module) = 128\n",
      "Spin(17): dim(spinor module) = 256\n"
     ]
    }
   ],
   "source": [
    "for n in [1..8]:\n",
    "    GB=WeylCharacterRing([\"B\",n],style=\"coroots\")\n",
    "    spin=GB(GB.fundamental_weights()[n])\n",
    "    print(\"Spin({}): dim(spinor module) = {}\".format(2*n+1,spin.degree()))"
   ]
  },
  {
   "cell_type": "markdown",
   "id": "0ac42d63-5709-40fe-ae3e-8033d244398a",
   "metadata": {},
   "source": [
    "### 3) Casimir constants\n",
    "\n",
    "Choose any $G$-invariant inner product on the Lie algebra $\\mathfrak{g}$, and let $(X_i)$ be an orthonormal basis of $\\mathfrak{g}$.\n",
    "\n",
    "For any representation $\\pi: G\\to\\mathrm{GL}(V)$, its **Casimir operator** is defined by\n",
    "$$\\mathrm{Cas}^G_\\pi=-\\sum_i\\pi_\\ast(X_i)^2.$$\n",
    "By Schur's Lemma, $\\mathrm{Cas}^G_\\pi$ acts as multiplication by a constant if $\\pi$ is irreducible. **Freudenthal's formula** states that the Casimir constant on the irreducible representation with highest weight $\\lambda\\in\\mathfrak{t}^\\ast$ is\n",
    "$$\\mathrm{Cas}^G_\\lambda=\\langle\\lambda,\\lambda+2\\rho\\rangle,$$\n",
    "where $\\rho\\in\\mathfrak{t}^\\ast$ is the half-sum of positive roots."
   ]
  },
  {
   "cell_type": "code",
   "execution_count": 90,
   "id": "bb668f7d-04c4-4383-b3d5-067391129986",
   "metadata": {},
   "outputs": [
    {
     "data": {
      "text/plain": [
       "(5/2, 3/2, 1/2)"
      ]
     },
     "execution_count": 90,
     "metadata": {},
     "output_type": "execute_result"
    }
   ],
   "source": [
    "G.space().rho()"
   ]
  },
  {
   "cell_type": "code",
   "execution_count": 91,
   "id": "22f3e8e2-3a75-46b2-98c9-5c95e08e24b6",
   "metadata": {},
   "outputs": [
    {
     "data": {
      "text/plain": [
       "True"
      ]
     },
     "execution_count": 91,
     "metadata": {},
     "output_type": "execute_result"
    }
   ],
   "source": [
    "G.space().rho()==1/2*sum(G.space().positive_roots())"
   ]
  },
  {
   "cell_type": "code",
   "execution_count": 92,
   "id": "5120d60a-3de0-4066-8457-bbcaaa81d1bf",
   "metadata": {},
   "outputs": [],
   "source": [
    "def Casimir(rep):\n",
    "    hweight=rep.highest_weight()\n",
    "    delta=rep.parent().space().rho()\n",
    "    return hweight.inner_product(hweight+2*delta)"
   ]
  },
  {
   "cell_type": "code",
   "execution_count": 93,
   "id": "0f30e212-b0f5-4d2e-9b53-4b91fbb76082",
   "metadata": {},
   "outputs": [
    {
     "data": {
      "text/plain": [
       "[6, 10, 21/4]"
      ]
     },
     "execution_count": 93,
     "metadata": {},
     "output_type": "execute_result"
    }
   ],
   "source": [
    "[Casimir(G(G.fundamental_weights()[n])) for n in [1..3]]"
   ]
  },
  {
   "cell_type": "markdown",
   "id": "7b102e27-b4af-441d-9ca8-12d47905b837",
   "metadata": {},
   "source": [
    "The value depends of course on the chosen inner product. This can cause a lot of headache in practice; one remedy is the fact that the Casimir operator defined with respect to **minus the Killing form** assumes the value 1 on the adjoint representation."
   ]
  },
  {
   "cell_type": "code",
   "execution_count": 94,
   "id": "66541236-3d2c-491a-8358-ac3141712534",
   "metadata": {},
   "outputs": [],
   "source": [
    "CasAd=Casimir(G.adjoint_representation())\n",
    "def CasimirKilling(rep):\n",
    "    return Casimir(rep)/CasAd"
   ]
  },
  {
   "cell_type": "code",
   "execution_count": 95,
   "id": "c75d2e20-2692-4b79-957a-279dcb941626",
   "metadata": {},
   "outputs": [
    {
     "data": {
      "text/plain": [
       "[3/5, 1, 21/40]"
      ]
     },
     "execution_count": 95,
     "metadata": {},
     "output_type": "execute_result"
    }
   ],
   "source": [
    "[CasimirKilling(G(G.fundamental_weights()[n])) for n in [1..3]]"
   ]
  },
  {
   "cell_type": "markdown",
   "id": "ab2f4239-0cc0-434a-9f2c-3d6d2cead90a",
   "metadata": {},
   "source": [
    "### 4) Branching rules\n",
    "\n",
    "Let $G$ be compact (simply connected) and semisimple, and let $H\\subset G$ be a closed subgroup. Then $H$ is a **reductive** Lie group: it can be written as $H=H_{ss}\\times T$, where $H_{ss}$ is semisimple and $T$ is a torus (which is central in $H$).\n",
    "\n",
    "For now, we assume $H=H_{ss}$.\n",
    "\n",
    "If $\\pi: G\\to\\mathrm{GL}(V)$ is a representation, we can restrict (**branch**) it to a representation $\\pi|_H$ of $H$. The **branching rule** for the pair tells us how a Cartan subalgebra $\\mathfrak{t}_{\\mathfrak{h}}$ of $\\mathfrak{h}$ embeds into a Cartan subalgebra $\\mathfrak{t}_{\\mathfrak{g}}$ of $\\mathfrak{g}$; or conversely, how weights of $\\mathfrak{g}$ restrict to weights of $\\mathfrak{h}$.\n",
    "\n",
    "Let us consider the pair of subalgebras $H=\\mathrm{Spin}(7)\\subset G=\\mathrm{Spin}(8)$. These define the symmetric space $G/H=S^7$."
   ]
  },
  {
   "cell_type": "code",
   "execution_count": 96,
   "id": "ea7876fd-b65d-4271-a894-c429fa3113ba",
   "metadata": {},
   "outputs": [
    {
     "data": {
      "text/plain": [
       "symmetric branching rule D4 => B3"
      ]
     },
     "execution_count": 96,
     "metadata": {},
     "output_type": "execute_result"
    }
   ],
   "source": [
    "G=WeylCharacterRing(\"D4\",style=\"coroots\")\n",
    "H=WeylCharacterRing(\"B3\",style=\"coroots\")\n",
    "b=branching_rule(\"D4\",\"B3\",rule=\"symmetric\"); b"
   ]
  },
  {
   "cell_type": "markdown",
   "id": "49973edc-da2c-4a74-a905-44cefb89c61c",
   "metadata": {},
   "source": [
    "Now, let us see the branching in action. This corresponds to $\\mathbb{C}^8=\\mathbb{C}\\oplus\\mathbb{C}^7$:"
   ]
  },
  {
   "cell_type": "code",
   "execution_count": 97,
   "id": "0785a9e5-0734-4f58-a679-64b09f5267a0",
   "metadata": {},
   "outputs": [
    {
     "data": {
      "text/plain": [
       "B3(0,0,0) + B3(1,0,0)"
      ]
     },
     "execution_count": 97,
     "metadata": {},
     "output_type": "execute_result"
    }
   ],
   "source": [
    "b.branch(G(1,0,0,0))"
   ]
  },
  {
   "cell_type": "markdown",
   "id": "85cb995f-cd22-42e1-981b-0e6431f54cc5",
   "metadata": {},
   "source": [
    "And here we find the decomposition $\\mathfrak{g}^\\mathbb{C}\\cong\\mathbb{C}^7\\oplus\\mathfrak{h}^\\mathbb{C}$:"
   ]
  },
  {
   "cell_type": "code",
   "execution_count": 98,
   "id": "57841d7d-aaee-47ef-a198-b4ab3fae8009",
   "metadata": {},
   "outputs": [
    {
     "data": {
      "text/plain": [
       "B3(1,0,0) + B3(0,1,0)"
      ]
     },
     "execution_count": 98,
     "metadata": {},
     "output_type": "execute_result"
    }
   ],
   "source": [
    "b.branch(G.adjoint_representation())"
   ]
  },
  {
   "cell_type": "markdown",
   "id": "385b8e3a-91f4-4079-9121-3a5b04abde49",
   "metadata": {},
   "source": [
    "SageMath has many ways to generate branching rules. For $G$ simple and $\\mathrm{rank}(G)\\leq8$, it knows how the maximal subgroups (resp. their semisimple parts) are embedded."
   ]
  },
  {
   "cell_type": "code",
   "execution_count": 102,
   "id": "d0d33e19-b366-4f14-99f6-c835ac9acedc",
   "metadata": {},
   "outputs": [
    {
     "name": "stdout",
     "output_type": "stream",
     "text": [
      "B3:branching_rule(\"D4\",\"B3\",\"symmetric\")\n",
      "A2:branching_rule(\"D4\",\"A2(1,1)\",\"plethysm\")\n",
      "A1xC2:branching_rule(\"D4\",\"C1xC2\",\"tensor\")*branching_rule(\"C1xC2\",\"A1xC2\",[branching_rule(\"C1\",\"A1\",\"isomorphic\"),\"identity\"])\n",
      "A1xA1xA1xA1:branching_rule(\"D4\",\"D2xD2\",\"orthogonal_sum\")*branching_rule(\"D2xD2\",\"A1xA1xA1xA1\",[branching_rule(\"D2\",\"A1xA1\",\"isomorphic\"),branching_rule(\"D2\",\"A1xA1\",\"isomorphic\")])\n"
     ]
    }
   ],
   "source": [
    "G.maximal_subgroups()"
   ]
  },
  {
   "cell_type": "code",
   "execution_count": 103,
   "id": "8924dbef-8151-49b1-9179-79462e079d72",
   "metadata": {},
   "outputs": [
    {
     "name": "stdout",
     "output_type": "stream",
     "text": [
      "A5:branching_rule(\"A6\",\"A5\",\"levi\")\n",
      "B3:branching_rule(\"A6\",\"B3\",\"symmetric\")\n",
      "A1xA4:branching_rule(\"A6\",\"A1xA4\",\"levi\")\n",
      "A2xA3:branching_rule(\"A6\",\"A2xA3\",\"levi\")\n"
     ]
    }
   ],
   "source": [
    "WeylCharacterRing(\"A6\").maximal_subgroups()"
   ]
  },
  {
   "cell_type": "code",
   "execution_count": 104,
   "id": "a3e3d436-fa36-4711-8928-28f1a0738bfc",
   "metadata": {},
   "outputs": [
    {
     "name": "stdout",
     "output_type": "stream",
     "text": [
      "D5:branching_rule(\"E6\",\"D5\",\"levi\")\n",
      "C4:branching_rule(\"E6\",\"C4\",\"symmetric\")\n",
      "F4:branching_rule(\"E6\",\"F4\",\"symmetric\")\n",
      "A2:branching_rule(\"E6\",\"A2\",\"miscellaneous\")\n",
      "G2:branching_rule(\"E6\",\"G2\",\"miscellaneous\")\n",
      "A2xG2:branching_rule(\"E6\",\"A2xG2\",\"miscellaneous\")\n",
      "A1xA5:branching_rule(\"E6\",\"A1xA5\",\"extended\")\n",
      "A2xA2xA2:branching_rule(\"E6\",\"A2xA2xA2\",\"extended\")\n"
     ]
    }
   ],
   "source": [
    "WeylCharacterRing(\"E6\").maximal_subgroups()"
   ]
  },
  {
   "cell_type": "code",
   "execution_count": 105,
   "id": "312abd27-aca9-49a7-b27e-79ae09d320cf",
   "metadata": {},
   "outputs": [
    {
     "name": "stdout",
     "output_type": "stream",
     "text": [
      "B4:branching_rule(\"F4\",\"B4\",\"extended\")\n",
      "A1:branching_rule(\"F4\",\"A1\",\"ii\")\n",
      "A1xG2:branching_rule(\"F4\",\"A1xG2\",\"miscellaneous\")\n",
      "A1xC3:branching_rule(\"F4\",\"A1xC3\",\"extended\")\n",
      "A2xA2:branching_rule(\"F4\",\"A2xA2\",\"extended\")\n"
     ]
    }
   ],
   "source": [
    "WeylCharacterRing(\"F4\").maximal_subgroups()"
   ]
  },
  {
   "cell_type": "code",
   "execution_count": 106,
   "id": "515858ab-e13f-4ad9-bf2a-176e2d7401e0",
   "metadata": {},
   "outputs": [
    {
     "data": {
      "text/plain": [
       "composite branching rule E6 => (symmetric) F4 => (extended) B4"
      ]
     },
     "execution_count": 106,
     "metadata": {},
     "output_type": "execute_result"
    }
   ],
   "source": [
    "branching_rule(\"E6\",\"F4\",\"symmetric\")*branching_rule(\"F4\",\"B4\",\"extended\")"
   ]
  },
  {
   "cell_type": "markdown",
   "id": "24a45c7d-9d68-4fc2-98f8-8bb3f69a0955",
   "metadata": {},
   "source": [
    "We can peer into what the branching rule does to roots and weights."
   ]
  },
  {
   "cell_type": "code",
   "execution_count": 107,
   "id": "ae6b60b3-83d2-415e-82fa-90a37dde6de9",
   "metadata": {},
   "outputs": [
    {
     "name": "stdout",
     "output_type": "stream",
     "text": [
      "\n",
      "    O 4\n",
      "    |\n",
      "    |\n",
      "O---O---O\n",
      "1   |2  3   \n",
      "    |\n",
      "    O 0\n",
      "D4~\n",
      "root restrictions D4 => B3:\n",
      "\n",
      "O---O=>=O\n",
      "1   2   3   \n",
      "B3\n",
      "\n",
      "0 => root (-1, -1, 0)\n",
      "1 => 1\n",
      "2 => 2\n",
      "3 => 3\n",
      "4 => 3\n",
      "\n",
      "fundamental weight restrictions D4 => B3:\n",
      "1 => (1, 0, 0)\n",
      "2 => (0, 1, 0)\n",
      "3 => (0, 0, 1)\n",
      "4 => (0, 0, 1)\n"
     ]
    }
   ],
   "source": [
    "b.describe(verbose=True)"
   ]
  },
  {
   "cell_type": "markdown",
   "id": "d5d21780-098c-46dd-acef-ed1c8049348d",
   "metadata": {},
   "source": [
    "For branching to non-maximal subgroups, one may compose branching rules. Let us take a look at the four different conjugacy classes of $A_1$ subgroups inside $G_2$."
   ]
  },
  {
   "cell_type": "code",
   "execution_count": 108,
   "id": "d73cdadd-aa2b-4ea5-92d7-a5bf0be6eb39",
   "metadata": {},
   "outputs": [
    {
     "name": "stdout",
     "output_type": "stream",
     "text": [
      "A2:branching_rule(\"G2\",\"A2\",\"extended\")\n",
      "A1:branching_rule(\"G2\",\"A1\",\"i\")\n",
      "A1xA1:branching_rule(\"G2\",\"A1xA1\",\"extended\")\n"
     ]
    }
   ],
   "source": [
    "G2=WeylCharacterRing(\"G2\",style=\"coroots\")\n",
    "G2.maximal_subgroups()"
   ]
  },
  {
   "cell_type": "code",
   "execution_count": 109,
   "id": "26950c69-a267-4989-b000-ca22c438f8e4",
   "metadata": {},
   "outputs": [
    {
     "data": {
      "text/plain": [
       "[i branching rule G2 => A1,\n",
       " composite branching rule G2 => (extended) A1xA1 => (proj1) A1,\n",
       " composite branching rule G2 => (extended) A1xA1 => (proj2) A1,\n",
       " composite branching rule G2 => (extended) A1xA1 => (diagonal) A1]"
      ]
     },
     "execution_count": 109,
     "metadata": {},
     "output_type": "execute_result"
    }
   ],
   "source": [
    "bMax=branching_rule(\"G2\",\"A1\",\"i\"); bMax\n",
    "bLeft=branching_rule(\"G2\",\"A1xA1\",\"extended\")*branching_rule(\"A1xA1\",\"A1\",\"proj1\")\n",
    "bRight=branching_rule(\"G2\",\"A1xA1\",\"extended\")*branching_rule(\"A1xA1\",\"A1\",\"proj2\")\n",
    "bDiag=branching_rule(\"G2\",\"A1xA1\",\"extended\")*branching_rule(\"A1xA1\",\"A1\",\"diagonal\")\n",
    "[bMax,bLeft,bRight,bDiag]"
   ]
  },
  {
   "cell_type": "markdown",
   "id": "4ca03e28-f721-422f-99ed-3cf307fb8041",
   "metadata": {},
   "source": [
    "Let us try to branch some representations of $G_2$ to compare the branching rules.\n",
    "\n",
    "Recall that the standard representation of $G_2$ is $\\mathbb{C}^7=\\mathrm{Im}(\\mathbb{O})^\\mathbb{C}$. The decompositions below all have an interpretation in terms of the action on octonions."
   ]
  },
  {
   "cell_type": "code",
   "execution_count": 110,
   "id": "228d62bd-aa81-45c0-aea3-cf9bb8f40cac",
   "metadata": {},
   "outputs": [
    {
     "data": {
      "text/plain": [
       "[A1(6), 2*A1(1) + A1(2), 3*A1(0) + 2*A1(1), A1(0) + 2*A1(2)]"
      ]
     },
     "execution_count": 110,
     "metadata": {},
     "output_type": "execute_result"
    }
   ],
   "source": [
    "A1=WeylCharacterRing(\"A1\",style=\"coroots\")\n",
    "[G2(1,0).branch(A1,b) for b in [bMax,bLeft,bRight,bDiag]]"
   ]
  },
  {
   "cell_type": "markdown",
   "id": "ba205c94-7eed-48b6-8231-bdbae86761b0",
   "metadata": {},
   "source": [
    "A particularly powerful one is the $\\texttt{plethysm}$ rule. It works if $G$ is a classical group ($\\mathrm{SU}(n)$, $\\mathrm{SO}(n)$, $\\mathrm{Sp}(n/2)$, and $H$ is embedded into $G$ by a representation $\\pi: H\\to\\mathrm{GL}(n,\\mathbb{C})$.\n",
    "\n",
    "Let's test this: we embed $\\mathrm{Spin}(7)$ into $\\mathrm{Spin}(\\mathfrak{so}(7))$ via the (lift of the) adjoint representation."
   ]
  },
  {
   "cell_type": "code",
   "execution_count": 111,
   "id": "8e50df3b-2f0f-439e-9625-ad808ec43374",
   "metadata": {},
   "outputs": [
    {
     "data": {
      "text/plain": [
       "[B3(0,1,0), 21]"
      ]
     },
     "execution_count": 111,
     "metadata": {},
     "output_type": "execute_result"
    }
   ],
   "source": [
    "ad=H.adjoint_representation(); [ad, ad.degree()]"
   ]
  },
  {
   "cell_type": "markdown",
   "id": "7999805e-59a1-4917-a731-5a6c3943151b",
   "metadata": {},
   "source": [
    "$\\dim\\mathfrak{so}(7)=21$, so $\\mathrm{Spin}(\\mathfrak{so}(7))$ is of Cartan type $B_{10}$ because $21=2\\cdot 10+1$."
   ]
  },
  {
   "cell_type": "code",
   "execution_count": 112,
   "id": "bc9aa2fd-18d3-4fdc-b9be-7df89d223e1f",
   "metadata": {},
   "outputs": [
    {
     "data": {
      "text/plain": [
       "plethysm (along B3(0,1,0)) branching rule B10 => B3"
      ]
     },
     "execution_count": 112,
     "metadata": {},
     "output_type": "execute_result"
    }
   ],
   "source": [
    "b=branching_rule(\"B10\",\"B3(0,1,0)\",rule=\"plethysm\"); b"
   ]
  },
  {
   "cell_type": "code",
   "execution_count": 113,
   "id": "cd1cac87-10b3-4d9d-977f-a6f71a7603d4",
   "metadata": {},
   "outputs": [
    {
     "data": {
      "text/plain": [
       "B3(0,1,0) + B3(1,0,2)"
      ]
     },
     "execution_count": 113,
     "metadata": {},
     "output_type": "execute_result"
    }
   ],
   "source": [
    "B10=WeylCharacterRing(\"B10\",style=\"coroots\")\n",
    "b.branch(B10.adjoint_representation())"
   ]
  },
  {
   "cell_type": "code",
   "execution_count": 114,
   "id": "628fe7fc-f799-4fa7-8aab-5a2371da7c4d",
   "metadata": {},
   "outputs": [
    {
     "data": {
      "text/plain": [
       "189"
      ]
     },
     "execution_count": 114,
     "metadata": {},
     "output_type": "execute_result"
    }
   ],
   "source": [
    "H(1,0,2).degree()"
   ]
  },
  {
   "cell_type": "markdown",
   "id": "e63b7bd5-fe74-4fb0-a5b9-0eadf2129b3a",
   "metadata": {},
   "source": [
    "So $\\mathfrak{so}(21)^\\mathbb{C}\\cong\\mathfrak{so}(7)^\\mathbb{C}\\oplus[1,0,2]$, and $\\mathrm{Spin}(21)/\\mathrm{Spin}(7)$ is an 189-dimensional isotropy-irreducible space!"
   ]
  },
  {
   "cell_type": "markdown",
   "id": "45ff5ba9-705b-46ce-b7f9-737ec8dad35d",
   "metadata": {},
   "source": [
    "### 5) Root vectors\n",
    "\n",
    "SageMath also allows computations inside a given Lie algebra. For semisimple Lie algebras, we have access to the root vectors."
   ]
  },
  {
   "cell_type": "code",
   "execution_count": 115,
   "id": "4823a1ca-4ccc-450f-bda1-95005348c1ef",
   "metadata": {},
   "outputs": [
    {
     "data": {
      "text/plain": [
       "Lie algebra of ['G', 2] in the Chevalley basis"
      ]
     },
     "execution_count": 115,
     "metadata": {},
     "output_type": "execute_result"
    }
   ],
   "source": [
    "g2=LieAlgebra(QQ, cartan_type=\"G2\"); g2"
   ]
  },
  {
   "cell_type": "markdown",
   "id": "1a3c439d-64a0-4ad3-8bef-10664e4afc74",
   "metadata": {},
   "source": [
    "Let $\\mathfrak{g}$ be a semisimple Lie algebra with root space decomposition\n",
    "$$\\mathfrak{g}^\\mathbb{C}=\\mathfrak{t}^\\mathbb{C}\\oplus\\bigoplus_{\\alpha}\\mathfrak{g}_\\alpha,$$\n",
    "where $\\alpha$ runs over all roots and $\\mathfrak{g}_\\alpha$ is the simultaneous eigenspace to the root $\\alpha$.\n",
    "\n",
    "A **Chevalley basis** is a basis adapted to this root space decomposition: to each root $\\alpha$, it associates a vector $E_\\alpha\\in\\mathfrak{g}_\\alpha$, and to each _simple_ root $\\alpha$ a vector $H_\\alpha\\in\\mathfrak{t}$.\n",
    "\n",
    "In this part of SageMath, roots are abstractly represented as linear combinations of simple roots. But we can also convert them to the \"ambient space\" we saw earlier."
   ]
  },
  {
   "cell_type": "code",
   "execution_count": 116,
   "id": "0352a670-62db-4e8c-93f8-32604c3b2022",
   "metadata": {},
   "outputs": [
    {
     "data": {
      "text/plain": [
       "[alpha[1],\n",
       " alpha[2],\n",
       " alpha[1] + alpha[2],\n",
       " 3*alpha[1] + alpha[2],\n",
       " 2*alpha[1] + alpha[2],\n",
       " 3*alpha[1] + 2*alpha[2],\n",
       " -alpha[1],\n",
       " -alpha[2],\n",
       " -alpha[1] - alpha[2],\n",
       " -3*alpha[1] - alpha[2],\n",
       " -2*alpha[1] - alpha[2],\n",
       " -3*alpha[1] - 2*alpha[2]]"
      ]
     },
     "execution_count": 116,
     "metadata": {},
     "output_type": "execute_result"
    }
   ],
   "source": [
    "R=RootSystem(\"G2\")\n",
    "roots=R.root_space().roots()\n",
    "roots"
   ]
  },
  {
   "cell_type": "code",
   "execution_count": 117,
   "id": "976eebe4-278a-4053-8085-14bfd057779c",
   "metadata": {},
   "outputs": [
    {
     "data": {
      "text/plain": [
       "[(0, 1, -1),\n",
       " (1, -2, 1),\n",
       " (1, -1, 0),\n",
       " (1, 1, -2),\n",
       " (1, 0, -1),\n",
       " (2, -1, -1),\n",
       " (0, -1, 1),\n",
       " (-1, 2, -1),\n",
       " (-1, 1, 0),\n",
       " (-1, -1, 2),\n",
       " (-1, 0, 1),\n",
       " (-2, 1, 1)]"
      ]
     },
     "execution_count": 117,
     "metadata": {},
     "output_type": "execute_result"
    }
   ],
   "source": [
    "f=R.root_space().to_ambient_space_morphism()\n",
    "[f(r) for r in roots]"
   ]
  },
  {
   "cell_type": "markdown",
   "id": "cc3f7d2e-27ee-44ab-838f-f1e7378bea6e",
   "metadata": {},
   "source": [
    "The Chevalley basis in SageMath consists also of abstract vectors, and is indexed by the roots (and simple coroots) above."
   ]
  },
  {
   "cell_type": "code",
   "execution_count": 118,
   "id": "7a9a6c31-2212-473f-b279-1420676718fe",
   "metadata": {},
   "outputs": [
    {
     "data": {
      "text/plain": [
       "Finite family {alpha[2]: E[alpha[2]], alpha[1]: E[alpha[1]], alpha[1] + alpha[2]: E[alpha[1] + alpha[2]], 2*alpha[1] + alpha[2]: E[2*alpha[1] + alpha[2]], 3*alpha[1] + alpha[2]: E[3*alpha[1] + alpha[2]], 3*alpha[1] + 2*alpha[2]: E[3*alpha[1] + 2*alpha[2]], alphacheck[1]: h1, alphacheck[2]: h2, -alpha[2]: E[-alpha[2]], -alpha[1]: E[-alpha[1]], -alpha[1] - alpha[2]: E[-alpha[1] - alpha[2]], -2*alpha[1] - alpha[2]: E[-2*alpha[1] - alpha[2]], -3*alpha[1] - alpha[2]: E[-3*alpha[1] - alpha[2]], -3*alpha[1] - 2*alpha[2]: E[-3*alpha[1] - 2*alpha[2]]}"
      ]
     },
     "execution_count": 118,
     "metadata": {},
     "output_type": "execute_result"
    }
   ],
   "source": [
    "B=basis(g2)\n",
    "alpha=R.root_space().simple_roots()\n",
    "alphacheck=R.root_space().simple_coroots()\n",
    "B"
   ]
  },
  {
   "cell_type": "code",
   "execution_count": 119,
   "id": "09c077e3-cc99-4f65-9cd3-51fb060ecf03",
   "metadata": {},
   "outputs": [
    {
     "data": {
      "text/plain": [
       "E[alpha[1] + alpha[2]]"
      ]
     },
     "execution_count": 119,
     "metadata": {},
     "output_type": "execute_result"
    }
   ],
   "source": [
    "B[alpha[1]+alpha[2]]"
   ]
  },
  {
   "cell_type": "code",
   "execution_count": 120,
   "id": "a3553428-9039-4fc9-b38a-bee4f8d09d1d",
   "metadata": {},
   "outputs": [
    {
     "data": {
      "text/plain": [
       "h1"
      ]
     },
     "execution_count": 120,
     "metadata": {},
     "output_type": "execute_result"
    }
   ],
   "source": [
    "B[alphacheck[1]]"
   ]
  },
  {
   "cell_type": "markdown",
   "id": "ad77983a-cb0c-413a-b56d-a30f41e01704",
   "metadata": {},
   "source": [
    "With this setup, we can now take Lie brackets! Recall that $[\\mathfrak{g}_\\alpha,\\mathfrak{g}_\\beta]\\subset\\mathfrak{g}_{\\alpha+\\beta}$ for $\\alpha+\\beta\\neq0$, and $[\\mathfrak{g}_\\alpha,\\mathfrak{g}_{-\\alpha}]\\subset\\mathfrak{t}$."
   ]
  },
  {
   "cell_type": "code",
   "execution_count": 121,
   "id": "7d324e7b-c6c8-44b6-b8c7-dc5c192d8a7d",
   "metadata": {},
   "outputs": [
    {
     "data": {
      "text/plain": [
       "-2*E[2*alpha[1] + alpha[2]]"
      ]
     },
     "execution_count": 121,
     "metadata": {},
     "output_type": "execute_result"
    }
   ],
   "source": [
    "v=B[alpha[1]]\n",
    "w=B[alpha[1]+alpha[2]]\n",
    "v.bracket(w)"
   ]
  },
  {
   "cell_type": "code",
   "execution_count": 122,
   "id": "a5107d93-75b9-49ec-b9c9-3b293bfde9e7",
   "metadata": {},
   "outputs": [
    {
     "data": {
      "text/plain": [
       "-h1 - 3*h2"
      ]
     },
     "execution_count": 122,
     "metadata": {},
     "output_type": "execute_result"
    }
   ],
   "source": [
    "u=B[-alpha[1]-alpha[2]]\n",
    "u.bracket(w)"
   ]
  },
  {
   "cell_type": "markdown",
   "id": "75b46243-6415-447d-be89-ad9bb1537b28",
   "metadata": {},
   "source": [
    "Let us test the calculation of the Casimir operator on the adjoint representation. Since the Chevalley basis is not orthonormal under the Killing form $B_\\mathfrak{g}$, we use the formula\n",
    "$$\\mathrm{Cas}^G_\\pi=\\sum_{i,j}K^{ij}\\pi_\\ast(b_i)\\pi_\\ast(b_j),$$\n",
    "where $(b_i)$ is our basis and $K=(K_{ij})=(B_\\mathfrak{g}(b_i,b_j))$."
   ]
  },
  {
   "cell_type": "code",
   "execution_count": 123,
   "id": "4276e27c-094c-4963-8dca-cc7043ef3105",
   "metadata": {},
   "outputs": [
    {
     "data": {
      "text/plain": [
       "[  0   0   0   0   0   0   0   0   8   0   0   0   0   0]\n",
       "[  0   0   0   0   0   0   0   0   0  24   0   0   0   0]\n",
       "[  0   0   0   0   0   0   0   0   0   0  24   0   0   0]\n",
       "[  0   0   0   0   0   0   0   0   0   0   0  24   0   0]\n",
       "[  0   0   0   0   0   0   0   0   0   0   0   0   8   0]\n",
       "[  0   0   0   0   0   0   0   0   0   0   0   0   0   8]\n",
       "[  0   0   0   0   0   0  48 -24   0   0   0   0   0   0]\n",
       "[  0   0   0   0   0   0 -24  16   0   0   0   0   0   0]\n",
       "[  8   0   0   0   0   0   0   0   0   0   0   0   0   0]\n",
       "[  0  24   0   0   0   0   0   0   0   0   0   0   0   0]\n",
       "[  0   0  24   0   0   0   0   0   0   0   0   0   0   0]\n",
       "[  0   0   0  24   0   0   0   0   0   0   0   0   0   0]\n",
       "[  0   0   0   0   8   0   0   0   0   0   0   0   0   0]\n",
       "[  0   0   0   0   0   8   0   0   0   0   0   0   0   0]"
      ]
     },
     "execution_count": 123,
     "metadata": {},
     "output_type": "execute_result"
    }
   ],
   "source": [
    "K=Matrix([[g2.killing_form(v,w) for v in B] for w in B]); K"
   ]
  },
  {
   "cell_type": "code",
   "execution_count": 124,
   "id": "0921dece-3369-4fdf-8a39-83a31e9ee2be",
   "metadata": {},
   "outputs": [],
   "source": [
    "Kinv=K^(-1)\n",
    "Blist=list(B)\n",
    "def CasimirG2ByBasis(x):\n",
    "    s=0\n",
    "    for i in range(0,14):\n",
    "        for j in range(0,14):\n",
    "            s+=Kinv[i,j]*x.bracket(Blist[i]).bracket(Blist[j])\n",
    "    return s"
   ]
  },
  {
   "cell_type": "code",
   "execution_count": 125,
   "id": "f58f3ce3-64fb-431c-a7d6-ce425a698025",
   "metadata": {},
   "outputs": [
    {
     "name": "stdout",
     "output_type": "stream",
     "text": [
      "E[alpha[2]] -> E[alpha[2]]\n",
      "E[alpha[1]] -> E[alpha[1]]\n",
      "E[alpha[1] + alpha[2]] -> E[alpha[1] + alpha[2]]\n",
      "E[2*alpha[1] + alpha[2]] -> E[2*alpha[1] + alpha[2]]\n",
      "E[3*alpha[1] + alpha[2]] -> E[3*alpha[1] + alpha[2]]\n",
      "E[3*alpha[1] + 2*alpha[2]] -> E[3*alpha[1] + 2*alpha[2]]\n",
      "h1 -> h1\n",
      "h2 -> h2\n",
      "E[-alpha[2]] -> E[-alpha[2]]\n",
      "E[-alpha[1]] -> E[-alpha[1]]\n",
      "E[-alpha[1] - alpha[2]] -> E[-alpha[1] - alpha[2]]\n",
      "E[-2*alpha[1] - alpha[2]] -> E[-2*alpha[1] - alpha[2]]\n",
      "E[-3*alpha[1] - alpha[2]] -> E[-3*alpha[1] - alpha[2]]\n",
      "E[-3*alpha[1] - 2*alpha[2]] -> E[-3*alpha[1] - 2*alpha[2]]\n"
     ]
    }
   ],
   "source": [
    "for v in B:\n",
    "    print(\"{} -> {}\".format(v,CasimirG2ByBasis(v)))"
   ]
  },
  {
   "cell_type": "markdown",
   "id": "a8c1b095-1079-475c-8f92-98ec6f7dd123",
   "metadata": {},
   "source": [
    "As we see, the Casimir operator really acts as the identity on the adjoint representation."
   ]
  },
  {
   "cell_type": "markdown",
   "id": "dc688550-b082-4bd9-8438-4fc295597980",
   "metadata": {},
   "source": [
    "## LiE section\n",
    "\n",
    "LiE allows a central torus, but only integer numbers. It is much faster in tensoring and branching than SageMath.\n",
    "\n",
    "File reading command in LiE console: $\\texttt{read file.lie}$"
   ]
  },
  {
   "cell_type": "markdown",
   "id": "87b6ae4e-87df-4cd0-8215-7af8f9d22a7b",
   "metadata": {},
   "source": [
    "### 1) Example: Curvature invariants\n",
    "\n",
    "$\\texttt{curv.lie}$\n",
    "\n",
    "Finding out where the invariants come from: scal, Ric, Weyl (fixed degree)"
   ]
  },
  {
   "cell_type": "markdown",
   "id": "d297ece0-5b86-425a-91f8-cb18d5728415",
   "metadata": {},
   "source": [
    "### 2) Restriction matrices\n",
    "\n",
    "A **restriction matrix** is LiE's way of encoding branching rules. If $G$ and $H$ are reductive Lie groups, then the restriction matrix is the matrix of the restriction map $\\mathfrak{t}_\\mathfrak{g}^\\ast\\to\\mathfrak{t}_\\mathfrak{h}^\\ast$ with respect to the bases of fundamental weights. (To be precise, its transpose, since LiE works with row vectors).\n",
    "\n",
    "Example: LiE command $\\texttt{max\\_sub}$\n",
    "\n",
    "Example: Branching for $\\mathrm{S}(\\mathrm{U}(p)\\times\\mathrm{U}(q))\\subset\\mathrm{SU}(p+q)$: $\\texttt{ComplexGrassmannians.lie}$\n",
    "\n",
    "Example: Branching for the $\\mathrm{U}(2)$-subgroups of $G_2$: $\\texttt{G2U2.lie}$"
   ]
  },
  {
   "cell_type": "markdown",
   "id": "28efcf07-2a95-4719-9b9c-3aad3ed4381c",
   "metadata": {},
   "source": [
    "### 3) Example: Laplace eigenvalues\n",
    "\n",
    "Calculation of Casimir constants: $\\texttt{Casimir.lie}$\n",
    "\n",
    "Eigenvalues of the Laplacian on functions for normal homogeneous spaces: $\\texttt{FunctionLaplacian.lie}$"
   ]
  },
  {
   "cell_type": "markdown",
   "id": "27c0ff9b-66dc-4809-aac7-542e90c504d9",
   "metadata": {},
   "source": [
    "### 4) The Sage-LiE interface\n",
    "\n",
    "LiE (like many other software packages) is accessible from SageMath!"
   ]
  },
  {
   "cell_type": "code",
   "execution_count": 126,
   "id": "e29268c1-ba02-4870-bcda-a082af9abf33",
   "metadata": {},
   "outputs": [
    {
     "data": {
      "text/plain": [
       "1X[1,0] +2X[1,1]"
      ]
     },
     "execution_count": 126,
     "metadata": {},
     "output_type": "execute_result"
    }
   ],
   "source": [
    "LP=lie(\"1X[1,0]+2X[1,1]\"); LP"
   ]
  },
  {
   "cell_type": "code",
   "execution_count": 127,
   "id": "355f5759-6bb3-49c0-9439-526705a31f3d",
   "metadata": {},
   "outputs": [
    {
     "data": {
      "text/plain": [
       "2*x0*x1 + x0"
      ]
     },
     "execution_count": 127,
     "metadata": {},
     "output_type": "execute_result"
    }
   ],
   "source": [
    "P=LP.sage(); P"
   ]
  },
  {
   "cell_type": "code",
   "execution_count": 128,
   "id": "ff14a912-c8ac-4619-8753-a4cf84150927",
   "metadata": {},
   "outputs": [
    {
     "data": {
      "text/plain": [
       "G2"
      ]
     },
     "execution_count": 128,
     "metadata": {},
     "output_type": "execute_result"
    }
   ],
   "source": [
    "LiEG=lie(\"G2\"); LiEG"
   ]
  },
  {
   "cell_type": "code",
   "execution_count": 129,
   "id": "3339fb7d-65ac-423f-9132-efdbc68ba022",
   "metadata": {},
   "outputs": [
    {
     "data": {
      "text/plain": [
       "1X[0,1]"
      ]
     },
     "execution_count": 129,
     "metadata": {},
     "output_type": "execute_result"
    }
   ],
   "source": [
    "ad=lie.adjoint(LiEG); ad"
   ]
  },
  {
   "cell_type": "code",
   "execution_count": 130,
   "id": "48f3931e-cc0b-4ad4-87b0-fc035ec28d76",
   "metadata": {},
   "outputs": [
    {
     "data": {
      "text/plain": [
       "     1X[0,0] +2X[0,2] +1X[0,4] +1X[1,1] +2X[2,0] +1X[2,2] +1X[3,1] +\n",
       "     1X[4,0]"
      ]
     },
     "execution_count": 130,
     "metadata": {},
     "output_type": "execute_result"
    }
   ],
   "source": [
    "lie.sym_tensor(4,ad,LiEG)"
   ]
  },
  {
   "cell_type": "markdown",
   "id": "1c6a2e59-9b85-467f-8693-602c4485a188",
   "metadata": {},
   "source": [
    "### 5) LiE restriction matrices from Sage branching rules\n",
    "\n",
    "From a SageMath branching rule we can extract how the fundamental weights of $\\mathfrak{g}$ restrict to weights of $\\mathfrak{h}$. This is precisely the information contained in the LiE restriction matrices. So if we don't know how to build a restriction matrix in LiE, we can see if SageMath has the branching rule."
   ]
  },
  {
   "cell_type": "code",
   "execution_count": 131,
   "id": "978d6ea8-b90c-4a17-ab2f-da348681c039",
   "metadata": {},
   "outputs": [],
   "source": [
    "def resmatrix(G,H,b):\n",
    "    rkG=G.rank()\n",
    "    fw=G.fundamental_weights()\n",
    "    HWR=WeightRing(H)\n",
    "    return [[int(x) for x in str(HWR(list(b(fw[i])))).split(\"(\")[1].removesuffix(\")\").split(\",\")]\\\n",
    "               for i in range(1,rkG+1)]"
   ]
  },
  {
   "cell_type": "markdown",
   "id": "f9e55077-7825-42e7-8a99-cfcca1e8cd41",
   "metadata": {},
   "source": [
    "Let us consider the space $\\mathrm{SO}(mn)/(\\mathrm{SO}(m)\\times\\mathrm{SO}(n))$, defined by the tensor product of standard representations\n",
    "$$\\mathrm{SO}(m)\\times\\mathrm{SO}(n)\\to\\mathrm{SO}(\\mathbb{R}^m\\otimes\\mathbb{R}^n),\\qquad (A,B)(v\\otimes w)=Av\\otimes Bw.$$\n",
    "SageMath has the branching rule \"tensor\" for this."
   ]
  },
  {
   "cell_type": "code",
   "execution_count": 132,
   "id": "61022995-6936-4b0f-94a6-f12d4f4028b6",
   "metadata": {},
   "outputs": [],
   "source": [
    "def family(m,n):\n",
    "    assert 3<=m and m<=n,\"Make sure that 3 <= m <= n.\"\n",
    "    bB1=branching_rule(\"B1\",\"A1\",\"isomorphic\")\n",
    "    bD2=branching_rule(\"D2\",\"A1xA1\",\"isomorphic\")\n",
    "    #lots of special cases due to SO(3) and SO(4). Sage is forgiving with the labels \"B1\" and \"D2\", but LiE isn't.\n",
    "    if m==3:\n",
    "        if n==3:\n",
    "            Hstr=\"A1xA1\"\n",
    "            Gstr=\"B4\"\n",
    "            b=branching_rule(\"B4\",\"B1xB1\",\"tensor\")*branching_rule(\"B1xB1\",\"A1xA1\",[bB1,bB1])\n",
    "        elif n==4:\n",
    "            Hstr=\"A1xA1xA1\"\n",
    "            Gstr=\"D6\"\n",
    "            b=branching_rule(\"D6\",\"B1xD2\",\"tensor\")*branching_rule(\"B1xD2\",\"A1xA1xA1\",[bB1,bD2])\n",
    "        elif n%2==0:\n",
    "            Hstr=\"A1xD\"+str(n/2)\n",
    "            Gstr=\"D\"+str(3*n/2)\n",
    "            bId=branching_rule(\"D\"+str(n/2),\"D\"+str(n/2),\"identity\")\n",
    "            b=branching_rule(Gstr,\"B1xD\"+str(n/2),\"tensor\")*branching_rule(\"B1xD\"+str(n/2),Hstr,[bB1,bId])\n",
    "        else:\n",
    "            Hstr=\"A1xB\"+str((n-1)/2)\n",
    "            Gstr=\"B\"+str(3*(n-1)/2+1)\n",
    "            bId=branching_rule(\"B\"+str((n-1)/2),\"B\"+str((n-1)/2),\"identity\")\n",
    "            b=branching_rule(Gstr,\"B1xB\"+str((n-1)/2),\"tensor\")*branching_rule(\"B1xB\"+str((n-1)/2),Hstr,[bB1,bId])\n",
    "    elif m==4:\n",
    "        if n==4:\n",
    "            Hstr=\"A1xA1xA1xA1\"\n",
    "            Gstr=\"D8\"\n",
    "            b=branching_rule(\"D8\",\"D2xD2\",\"tensor\")*branching_rule(\"D2xD2\",\"A1xA1xA1xA1\",[bD2,bD2])\n",
    "        elif n%2==0:\n",
    "            Hstr=\"A1xA1xD\"+str(n/2)\n",
    "            Gstr=\"D\"+str(2*n)\n",
    "            bId=branching_rule(\"D\"+str(n/2),\"D\"+str(n/2),\"identity\")\n",
    "            b=branching_rule(Gstr,\"D2xD\"+str(n/2),\"tensor\")*branching_rule(\"D2xD\"+str(n/2),Hstr,[bD2,bId])\n",
    "        else:\n",
    "            Hstr=\"A1xA1xB\"+str((n-1)/2)\n",
    "            Gstr=\"D\"+str(2*n)\n",
    "            bId=branching_rule(\"B\"+str((n-1)/2),\"B\"+str((n-1)/2),\"identity\")\n",
    "            b=branching_rule(Gstr,\"D2xB\"+str((n-1)/2),\"tensor\")*branching_rule(\"D2xB\"+str((n-1)/2),Hstr,[bD2,bId])\n",
    "    elif m%2==0:\n",
    "        if n%2==0:\n",
    "            Hstr=\"D\"+str(m/2)+\"xD\"+str(n/2)\n",
    "            Gstr=\"D\"+str(m*n/2)\n",
    "            b=branching_rule(Gstr,Hstr,\"tensor\")\n",
    "        else:\n",
    "            Hstr=\"D\"+str(m/2)+\"xB\"+str((n-1)/2)\n",
    "            Gstr=\"D\"+str(m*n/2)\n",
    "            b=branching_rule(Gstr,Hstr,\"tensor\")\n",
    "    else:\n",
    "        if n%2==0:\n",
    "            Hstr=\"B\"+str((m-1)/2)+\"xD\"+str(n/2)\n",
    "            Gstr=\"D\"+str(m*n/2)\n",
    "            b=branching_rule(Gstr,Hstr,\"tensor\")\n",
    "        else:\n",
    "            Hstr=\"B\"+str((m-1)/2)+\"xB\"+str((n-1)/2)\n",
    "            Gstr=\"B\"+str((m*n-1)/2)\n",
    "            b=branching_rule(Gstr,Hstr,\"tensor\")\n",
    "    G=WeylCharacterRing(Gstr,style=\"coroots\")\n",
    "    H=WeylCharacterRing(Hstr,style=\"coroots\")\n",
    "    return resmatrix(G,H,b)"
   ]
  },
  {
   "cell_type": "code",
   "execution_count": 134,
   "id": "2aa5ee22-cf5a-43a8-833c-6df6cf881ad5",
   "metadata": {},
   "outputs": [
    {
     "data": {
      "text/plain": [
       "[ 1  1  1  0]\n",
       "[ 2  2  0  2]\n",
       "[ 1  3  1  2]\n",
       "[ 0  4  0  4]\n",
       "[ 1  5  0  4]\n",
       "[ 0  6  0  4]\n",
       "[ 1  7 -1  4]\n",
       "[ 2  8  0  2]\n",
       "[ 1  4 -1  2]\n",
       "[ 0  5  0  0]"
      ]
     },
     "execution_count": 134,
     "metadata": {},
     "output_type": "execute_result"
    }
   ],
   "source": [
    "Matrix(family(4,5))"
   ]
  },
  {
   "cell_type": "markdown",
   "id": "11c2d049-efaa-48a3-935e-cf1a6db77c47",
   "metadata": {},
   "source": [
    "### 6) The program LLBounds\n",
    "\n",
    "This is a program to check the estimate $\\Delta_{\\mathrm{L}}\\geq2E$ (on tt-tensors) on non-symmetric **normal homogeneous Einstein manifolds** $G/H$ with simple $G$, as classified by Krämer, Manturov, Wolf (isotropy irreducible), M. Wang and Ziller (isotropy reducible).\n",
    "\n",
    "It relies on an expression of $\\Delta_{\\mathrm{L}}$ in terms of various Casimir operators, which are computed/estimated in SageMath, with the branching and tensoring happening inside LiE.\n",
    "\n",
    "https://github.com/PSchwahn/LLBounds"
   ]
  },
  {
   "cell_type": "code",
   "execution_count": null,
   "id": "7618b624-146c-449f-9424-4aa6773992af",
   "metadata": {},
   "outputs": [],
   "source": []
  }
 ],
 "metadata": {
  "kernelspec": {
   "display_name": "SageMath 10.6",
   "language": "sage",
   "name": "sagemath"
  },
  "language_info": {
   "codemirror_mode": {
    "name": "ipython",
    "version": 3
   },
   "file_extension": ".py",
   "mimetype": "text/x-python",
   "name": "python",
   "nbconvert_exporter": "python",
   "pygments_lexer": "ipython3",
   "version": "3.12.3"
  }
 },
 "nbformat": 4,
 "nbformat_minor": 5
}
